{
 "cells": [
  {
   "cell_type": "code",
   "execution_count": 20,
   "metadata": {},
   "outputs": [],
   "source": [
    "from pyspark.sql import SparkSession\n",
    "from pyspark.sql.types import *\n",
    "from scipy.ndimage.filters import gaussian_filter\n",
    "import matplotlib.cm as cm\n",
    "from matplotlib.colors import Normalize\n",
    "import numpy as np\n",
    "import matplotlib.pyplot as plt\n",
    "import pandas as pd\n",
    "# import seaborn as sns\n",
    "%matplotlib inline"
   ]
  },
  {
   "cell_type": "code",
   "execution_count": 21,
   "metadata": {},
   "outputs": [],
   "source": [
    "spark = SparkSession.builder\\\n",
    "    .appName(\"demographics\")\\\n",
    "    .getOrCreate()"
   ]
  },
  {
   "cell_type": "code",
   "execution_count": 22,
   "metadata": {},
   "outputs": [],
   "source": [
    "demog = spark.read.csv('/Users/vvviren/Desktop/Demographic_Statistics_By_Zip_Code.csv',header='true')\n",
    "\n",
    "demog = demog.filter(demog['count participants'] != '0')\n",
    "\n",
    "cols=[]\n",
    "for c in demog.columns:\n",
    "    if 'COUNT' in c:\n",
    "        cols.append(c)\n",
    "\n",
    "cols.remove('COUNT PARTICIPANTS')\n",
    "cols\n",
    "\n",
    "demog = demog.drop(*cols)\n"
   ]
  },
  {
   "cell_type": "code",
   "execution_count": 23,
   "metadata": {},
   "outputs": [
    {
     "data": {
      "text/plain": [
       "DataFrame[EventType: string, StartDateTime: string, EndDateTime: string, EnteredOn: string, ParkingHeld: string, Borough: string, CommunityBoard(s): string, PolicePrecinct(s): string, Category: string, SubCategoryName: string, ZipCode(s): string]"
      ]
     },
     "execution_count": 23,
     "metadata": {},
     "output_type": "execute_result"
    }
   ],
   "source": [
    "fp = spark.read.csv('/Users/vvviren/Desktop/Film_Permits.csv',header='true')\n",
    "\n",
    "cols = ['EventId', 'EventAgency', 'CommunityBoard', 'PolicePrecint', 'Country']\n",
    "fp.drop(*cols)"
   ]
  },
  {
   "cell_type": "code",
   "execution_count": 24,
   "metadata": {},
   "outputs": [],
   "source": [
    "from pyspark.sql.functions import explode\n",
    "from pyspark.sql.functions import split\n",
    "\n",
    "\n",
    "fp=fp.withColumn('tmp', split('ZipCode(s)', ', '))\n",
    "                                               \n",
    "fp=fp.withColumn('zips', explode('tmp'))"
   ]
  },
  {
   "cell_type": "code",
   "execution_count": 25,
   "metadata": {},
   "outputs": [],
   "source": [
    "left_join = fp.join(demog, fp['zips'] == demog['JURISDICTION NAME'],how='left')\n"
   ]
  },
  {
   "cell_type": "code",
   "execution_count": 26,
   "metadata": {},
   "outputs": [
    {
     "name": "stdout",
     "output_type": "stream",
     "text": [
      "+-----+-----+\n",
      "| zips|count|\n",
      "+-----+-----+\n",
      "|11222| 7271|\n",
      "|11101| 5694|\n",
      "|10036| 4174|\n",
      "|10019| 3969|\n",
      "|10001| 3165|\n",
      "|10013| 2998|\n",
      "|10011| 2765|\n",
      "|11201| 2516|\n",
      "|10003| 2459|\n",
      "|10023| 2401|\n",
      "|10014| 2017|\n",
      "|10012| 1976|\n",
      "|11217| 1922|\n",
      "|10002| 1908|\n",
      "|11211| 1762|\n",
      "|11106| 1581|\n",
      "|11249| 1566|\n",
      "|10022| 1352|\n",
      "|10010| 1246|\n",
      "|11237| 1188|\n",
      "+-----+-----+\n",
      "only showing top 20 rows\n",
      "\n"
     ]
    }
   ],
   "source": [
    "from pyspark.sql.functions import col\n",
    "import pyspark.sql.functions as F\n",
    "\n",
    "cntfp = left_join.groupby(left_join.zips).count()\n",
    "sortcntfp = cntfp.sort(col('count').desc())\n",
    "sortcntfp = sortcntfp.filter(col('count')>1100)\n",
    "sortcntfp.show()"
   ]
  },
  {
   "cell_type": "code",
   "execution_count": 27,
   "metadata": {},
   "outputs": [],
   "source": [
    "from pyspark.sql.functions import col\n",
    "\n",
    "filterfp = left_join.join(sortcntfp, left_join['zips']==sortcntfp['zips']).drop(sortcntfp.zips)\n",
    "df = sortcntfp.join(demog, sortcntfp['zips'] == demog['JURISDICTION NAME'],how='left')"
   ]
  },
  {
   "cell_type": "code",
   "execution_count": 28,
   "metadata": {},
   "outputs": [],
   "source": [
    "from pyspark.sql.types import DoubleType\n",
    "df = df.withColumn(\"percent_us_citizen\", df[\"PERCENT US CITIZEN\"].cast(DoubleType()))\n",
    "df = df.withColumn(\"percent_other_citizen\", df[\"PERCENT OTHER CITIZEN STATUS\"].cast(DoubleType()))\n",
    "df = df.withColumn(\"percent_unknown_citizen\", df[\"PERCENT CITIZEN STATUS UNKNOWN\"].cast(DoubleType()))\n",
    "df = df.withColumn(\"percent_hispanic_latino\", df[\"PERCENT HISPANIC LATINO\"].cast(DoubleType()))\n",
    "df = df.withColumn(\"percent_american_indian\", df[\"PERCENT AMERICAN INDIAN\"].cast(DoubleType()))\n",
    "df = df.withColumn(\"percent_male\", df[\"PERCENT MALE\"].cast(DoubleType()))\n",
    "df = df.withColumn(\"percent_female\", df[\"PERCENT FEMALE\"].cast(DoubleType()))\n",
    "df = df.withColumn(\"percent_asian_non_hispanic\", df['PERCENT ASIAN NON HISPANIC'].cast(DoubleType()))\n",
    "df = df.withColumn(\"percent_white_non_hispanic\", df['PERCENT WHITE NON HISPANIC'].cast(DoubleType()))\n",
    "df = df.withColumn(\"percent_black_non_hispanic\", df['PERCENT BLACK NON HISPANIC'].cast(DoubleType()))\n",
    "df = df.withColumn(\"percent_ethinicity_unknown\", df['PERCENT ETHNICITY UNKNOWN'].cast(DoubleType()))"
   ]
  },
  {
   "cell_type": "code",
   "execution_count": 29,
   "metadata": {},
   "outputs": [
    {
     "name": "stdout",
     "output_type": "stream",
     "text": [
      "+-----+-----+------------------+\n",
      "| zips|count|percent_us_citizen|\n",
      "+-----+-----+------------------+\n",
      "|10011| 2765|               1.0|\n",
      "|11201| 2516|               1.0|\n",
      "|10036| 4174|               1.0|\n",
      "|11211| 1762|               1.0|\n",
      "|10003| 2459|               1.0|\n",
      "|10023| 2401|               1.0|\n",
      "|10022| 1352|               1.0|\n",
      "|10013| 2998|               1.0|\n",
      "|11101| 5694|               1.0|\n",
      "|10001| 3165|              0.95|\n",
      "|10002| 1908|              0.94|\n",
      "|10018| 1154|              0.67|\n",
      "|11222| 7271|              null|\n",
      "|10014| 2017|              null|\n",
      "|11106| 1581|              null|\n",
      "|11249| 1566|              null|\n",
      "|10012| 1976|              null|\n",
      "|10010| 1246|              null|\n",
      "|11385| 1162|              null|\n",
      "|11217| 1922|              null|\n",
      "+-----+-----+------------------+\n",
      "only showing top 20 rows\n",
      "\n",
      "+-----+-----+-----------------------+\n",
      "| zips|count|percent_hispanic_latino|\n",
      "+-----+-----+-----------------------+\n",
      "|10023| 2401|                   0.43|\n",
      "|10001| 3165|                   0.36|\n",
      "|10011| 2765|                   0.33|\n",
      "|11201| 2516|                   0.18|\n",
      "|11211| 1762|                   0.06|\n",
      "|10002| 1908|                   0.03|\n",
      "|10003| 2459|                    0.0|\n",
      "|10013| 2998|                    0.0|\n",
      "|10036| 4174|                    0.0|\n",
      "|11101| 5694|                    0.0|\n",
      "|10022| 1352|                    0.0|\n",
      "|10018| 1154|                    0.0|\n",
      "|10017| 1174|                   null|\n",
      "|11222| 7271|                   null|\n",
      "|10014| 2017|                   null|\n",
      "|11249| 1566|                   null|\n",
      "|10012| 1976|                   null|\n",
      "|11106| 1581|                   null|\n",
      "|11237| 1188|                   null|\n",
      "|11217| 1922|                   null|\n",
      "+-----+-----+-----------------------+\n",
      "only showing top 20 rows\n",
      "\n",
      "+-----+-----+------------+\n",
      "| zips|count|percent_male|\n",
      "+-----+-----+------------+\n",
      "|11101| 5694|         1.0|\n",
      "|10013| 2998|        0.88|\n",
      "|10001| 3165|         0.5|\n",
      "|10002| 1908|        0.46|\n",
      "|11201| 2516|        0.45|\n",
      "|10011| 2765|        0.33|\n",
      "|10018| 1154|        0.33|\n",
      "|10023| 2401|        0.29|\n",
      "|11211| 1762|        0.09|\n",
      "|10036| 4174|         0.0|\n",
      "|10003| 2459|         0.0|\n",
      "|10022| 1352|         0.0|\n",
      "|11237| 1188|        null|\n",
      "|10019| 3969|        null|\n",
      "|11217| 1922|        null|\n",
      "|11106| 1581|        null|\n",
      "|10014| 2017|        null|\n",
      "|10012| 1976|        null|\n",
      "|11249| 1566|        null|\n",
      "|10017| 1174|        null|\n",
      "+-----+-----+------------+\n",
      "only showing top 20 rows\n",
      "\n"
     ]
    }
   ],
   "source": [
    "df.sort(col('percent_us_citizen').desc()).select('zips','count','percent_us_citizen').show()\n",
    "df.sort(col('percent_hispanic_latino').desc()).select('zips','count','percent_hispanic_latino').show()\n",
    "df.sort(col('percent_male').desc()).select('zips','count','percent_male').show()"
   ]
  },
  {
   "cell_type": "code",
   "execution_count": 30,
   "metadata": {},
   "outputs": [
    {
     "data": {
      "text/plain": [
       "0.1685760188209232"
      ]
     },
     "execution_count": 30,
     "metadata": {},
     "output_type": "execute_result"
    }
   ],
   "source": [
    "df.stat.corr('count', 'percent_us_citizen')"
   ]
  },
  {
   "cell_type": "code",
   "execution_count": 31,
   "metadata": {},
   "outputs": [
    {
     "data": {
      "text/plain": [
       "0.05192380017097818"
      ]
     },
     "execution_count": 31,
     "metadata": {},
     "output_type": "execute_result"
    }
   ],
   "source": [
    "df.stat.corr('count', 'percent_hispanic_latino')"
   ]
  },
  {
   "cell_type": "code",
   "execution_count": 32,
   "metadata": {},
   "outputs": [
    {
     "data": {
      "text/plain": [
       "-0.11742141292817125"
      ]
     },
     "execution_count": 32,
     "metadata": {},
     "output_type": "execute_result"
    }
   ],
   "source": [
    "df.stat.corr('count', 'percent_white_non_hispanic')"
   ]
  },
  {
   "cell_type": "code",
   "execution_count": 33,
   "metadata": {},
   "outputs": [
    {
     "data": {
      "text/plain": [
       "0.10755895535994457"
      ]
     },
     "execution_count": 33,
     "metadata": {},
     "output_type": "execute_result"
    }
   ],
   "source": [
    "df.stat.corr('count', 'percent_asian_non_hispanic')"
   ]
  },
  {
   "cell_type": "code",
   "execution_count": 34,
   "metadata": {},
   "outputs": [
    {
     "data": {
      "text/plain": [
       "0.1892730768700985"
      ]
     },
     "execution_count": 34,
     "metadata": {},
     "output_type": "execute_result"
    }
   ],
   "source": [
    "df.stat.corr('count', 'percent_black_non_hispanic')"
   ]
  }
 ],
 "metadata": {
  "kernelspec": {
   "display_name": "Python 3",
   "language": "python",
   "name": "python3"
  },
  "language_info": {
   "codemirror_mode": {
    "name": "ipython",
    "version": 3
   },
   "file_extension": ".py",
   "mimetype": "text/x-python",
   "name": "python",
   "nbconvert_exporter": "python",
   "pygments_lexer": "ipython3",
   "version": "3.7.5"
  }
 },
 "nbformat": 4,
 "nbformat_minor": 2
}
