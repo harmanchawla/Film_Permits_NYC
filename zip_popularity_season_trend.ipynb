{
 "cells": [
  {
   "cell_type": "code",
   "execution_count": 511,
   "metadata": {},
   "outputs": [],
   "source": [
    "from pyspark.sql import SparkSession\n",
    "from pyspark.sql.types import *\n",
    "from scipy.ndimage.filters import gaussian_filter\n",
    "import matplotlib.cm as cm\n",
    "from matplotlib.colors import Normalize\n",
    "import numpy as np\n",
    "import matplotlib.pyplot as plt\n",
    "import pandas as pd\n",
    "# import seaborn as sns\n",
    "%matplotlib inline\n",
    "\n"
   ]
  },
  {
   "cell_type": "code",
   "execution_count": 512,
   "metadata": {},
   "outputs": [],
   "source": [
    "spark = SparkSession.builder\\\n",
    "    .appName(\"popularity\")\\\n",
    "    .getOrCreate()"
   ]
  },
  {
   "cell_type": "code",
   "execution_count": 513,
   "metadata": {},
   "outputs": [],
   "source": [
    "fp_original = spark.read.csv('/Users/vvviren/MyDev/bd apps/Film_Permits.csv',header='true')"
   ]
  },
  {
   "cell_type": "code",
   "execution_count": 514,
   "metadata": {},
   "outputs": [],
   "source": [
    "cols = [\n",
    " 'EventType',\n",
    " 'StartDateTime',\n",
    " 'EnteredOn',\n",
    " 'EventAgency',\n",
    " 'ParkingHeld',\n",
    " 'Borough',\n",
    " 'CommunityBoard(s)',\n",
    " 'PolicePrecinct(s)',\n",
    " 'Category',\n",
    " 'SubCategoryName',\n",
    " 'Country']\n",
    "fp_original=fp_original.drop(*cols)"
   ]
  },
  {
   "cell_type": "code",
   "execution_count": 515,
   "metadata": {},
   "outputs": [
    {
     "name": "stdout",
     "output_type": "stream",
     "text": [
      "+-------+--------------------+--------------------+\n",
      "|EventID|         EndDateTime|          ZipCode(s)|\n",
      "+-------+--------------------+--------------------+\n",
      "| 446040|10/20/2018 04:00:...|               10012|\n",
      "| 446168|10/20/2018 02:00:...|        10034, 10463|\n",
      "| 186438|10/31/2014 02:00:...|               11378|\n",
      "| 445255|10/20/2018 06:00:...|               11201|\n",
      "| 128794|11/17/2013 06:00:...|        10001, 10121|\n",
      "|  43547|01/10/2012 07:00:...|        11101, 11222|\n",
      "|  66846|07/27/2012 07:00:...|               11217|\n",
      "| 104342|06/21/2013 09:00:...|               10036|\n",
      "| 244863|09/16/2015 09:00:...|               10462|\n",
      "| 446379|10/20/2018 10:00:...|               10014|\n",
      "| 446359|10/20/2018 12:00:...|        10036, 10105|\n",
      "| 203743|02/20/2015 07:00:...|        10014, 11101|\n",
      "| 446069|10/20/2018 09:00:...|        11203, 11218|\n",
      "| 445165|10/21/2018 06:00:...|        10001, 10121|\n",
      "|  82397|01/07/2013 09:00:...|               11219|\n",
      "| 137539|02/01/2014 06:00:...|               10001|\n",
      "| 446355|10/20/2018 08:00:...|               10036|\n",
      "| 446372|10/19/2018 11:59:...|               11201|\n",
      "| 220618|05/08/2015 04:00:...|               11104|\n",
      "| 446318|10/20/2018 07:00:...|10017, 10022, 101...|\n",
      "+-------+--------------------+--------------------+\n",
      "only showing top 20 rows\n",
      "\n"
     ]
    }
   ],
   "source": [
    "fp_original.show()"
   ]
  },
  {
   "cell_type": "code",
   "execution_count": 516,
   "metadata": {},
   "outputs": [
    {
     "name": "stdout",
     "output_type": "stream",
     "text": [
      "+-------+--------------------+----+\n",
      "|EventID|          ZipCode(s)|year|\n",
      "+-------+--------------------+----+\n",
      "| 446040|               10012|2018|\n",
      "| 446168|        10034, 10463|2018|\n",
      "| 186438|               11378|2014|\n",
      "| 445255|               11201|2018|\n",
      "| 128794|        10001, 10121|2013|\n",
      "|  43547|        11101, 11222|2012|\n",
      "|  66846|               11217|2012|\n",
      "| 104342|               10036|2013|\n",
      "| 244863|               10462|2015|\n",
      "| 446379|               10014|2018|\n",
      "| 446359|        10036, 10105|2018|\n",
      "| 203743|        10014, 11101|2015|\n",
      "| 446069|        11203, 11218|2018|\n",
      "| 445165|        10001, 10121|2018|\n",
      "|  82397|               11219|2013|\n",
      "| 137539|               10001|2014|\n",
      "| 446355|               10036|2018|\n",
      "| 446372|               11201|2018|\n",
      "| 220618|               11104|2015|\n",
      "| 446318|10017, 10022, 101...|2018|\n",
      "+-------+--------------------+----+\n",
      "only showing top 20 rows\n",
      "\n"
     ]
    }
   ],
   "source": [
    "from pyspark.sql.functions import to_timestamp, year\n",
    "\n",
    "fp = fp_original.withColumn(\"date\", to_timestamp(\"EndDateTime\", \"MM/dd/yyyy HH:mm:ss \")).withColumn(\"year\", year(\"date\")).drop(\"EndDateTime\").drop(\"date\")\n",
    "fp.show()"
   ]
  },
  {
   "cell_type": "code",
   "execution_count": 517,
   "metadata": {},
   "outputs": [
    {
     "name": "stdout",
     "output_type": "stream",
     "text": [
      "+----+-----+\n",
      "|year| zips|\n",
      "+----+-----+\n",
      "|2018|10012|\n",
      "|2018|10034|\n",
      "|2018|10463|\n",
      "|2014|11378|\n",
      "|2018|11201|\n",
      "|2013|10001|\n",
      "|2013|10121|\n",
      "|2012|11101|\n",
      "|2012|11222|\n",
      "|2012|11217|\n",
      "|2013|10036|\n",
      "|2015|10462|\n",
      "|2018|10014|\n",
      "|2018|10036|\n",
      "|2018|10105|\n",
      "|2015|10014|\n",
      "|2015|11101|\n",
      "|2018|11203|\n",
      "|2018|11218|\n",
      "|2018|10001|\n",
      "+----+-----+\n",
      "only showing top 20 rows\n",
      "\n"
     ]
    }
   ],
   "source": [
    "from pyspark.sql.functions import explode,split\n",
    "\n",
    "\n",
    "fp=fp.withColumn('tmp', split('ZipCode(s)', ', '))                                               \n",
    "fp=fp.withColumn('zips', explode('tmp')).drop(\"tmp\", \"ZipCode(s)\", \"EventID\")\n",
    "\n",
    "fp.show()"
   ]
  },
  {
   "cell_type": "code",
   "execution_count": 518,
   "metadata": {},
   "outputs": [
    {
     "name": "stdout",
     "output_type": "stream",
     "text": [
      "+-----+------------+\n",
      "| zips|permits_2012|\n",
      "+-----+------------+\n",
      "|    0|           6|\n",
      "|00083|          34|\n",
      "|10001|         297|\n",
      "|10002|         244|\n",
      "|10003|         270|\n",
      "|10004|          98|\n",
      "|10005|          98|\n",
      "|10006|          20|\n",
      "|10007|         135|\n",
      "|10009|          69|\n",
      "|10010|         172|\n",
      "|10011|         288|\n",
      "|10012|         235|\n",
      "|10013|         359|\n",
      "|10014|         273|\n",
      "|10016|         115|\n",
      "|10017|         157|\n",
      "|10018|         135|\n",
      "|10019|         545|\n",
      "|10020|         131|\n",
      "+-----+------------+\n",
      "only showing top 20 rows\n",
      "\n",
      "+-----+------------+\n",
      "| zips|permits_2013|\n",
      "+-----+------------+\n",
      "|    0|           8|\n",
      "|00083|          29|\n",
      "|10001|         398|\n",
      "|10002|         278|\n",
      "|10003|         284|\n",
      "|10004|          79|\n",
      "|10005|          96|\n",
      "|10006|          35|\n",
      "|10007|         157|\n",
      "|10009|         101|\n",
      "|10010|         172|\n",
      "|10011|         365|\n",
      "|10012|         231|\n",
      "|10013|         441|\n",
      "|10014|         322|\n",
      "|10016|         139|\n",
      "|10017|         185|\n",
      "|10018|         146|\n",
      "|10019|         617|\n",
      "|10020|          91|\n",
      "+-----+------------+\n",
      "only showing top 20 rows\n",
      "\n",
      "+-----+------------+\n",
      "| zips|permits_2014|\n",
      "+-----+------------+\n",
      "|    0|           1|\n",
      "|00083|          14|\n",
      "|10000|           1|\n",
      "|10001|         442|\n",
      "|10002|         227|\n",
      "|10003|         340|\n",
      "|10004|          79|\n",
      "|10005|          90|\n",
      "|10006|          32|\n",
      "|10007|         142|\n",
      "|10009|         108|\n",
      "|10010|         155|\n",
      "|10011|         407|\n",
      "|10012|         253|\n",
      "|10013|         340|\n",
      "|10014|         286|\n",
      "|10016|         135|\n",
      "|10017|         171|\n",
      "|10018|         159|\n",
      "|10019|         524|\n",
      "+-----+------------+\n",
      "only showing top 20 rows\n",
      "\n",
      "+-----+------------+\n",
      "| zips|permits_2015|\n",
      "+-----+------------+\n",
      "|    0|           2|\n",
      "|00083|          13|\n",
      "|10000|           1|\n",
      "|10001|         438|\n",
      "|10002|         308|\n",
      "|10003|         364|\n",
      "|10004|          94|\n",
      "|10005|         132|\n",
      "|10006|          22|\n",
      "|10007|         130|\n",
      "|10009|          75|\n",
      "|10010|         186|\n",
      "|10011|         395|\n",
      "|10012|         286|\n",
      "|10013|         475|\n",
      "|10014|         270|\n",
      "|10016|         125|\n",
      "|10017|         142|\n",
      "|10018|         142|\n",
      "|10019|         535|\n",
      "+-----+------------+\n",
      "only showing top 20 rows\n",
      "\n",
      "+-----+------------+\n",
      "| zips|permits_2016|\n",
      "+-----+------------+\n",
      "|00083|           9|\n",
      "|10000|           2|\n",
      "|10001|         382|\n",
      "|10002|         217|\n",
      "|10003|         323|\n",
      "|10004|          87|\n",
      "|10005|          93|\n",
      "|10006|          17|\n",
      "|10007|         127|\n",
      "|10009|          66|\n",
      "|10010|         117|\n",
      "|10011|         398|\n",
      "|10012|         286|\n",
      "|10013|         295|\n",
      "|10014|         233|\n",
      "|10016|         118|\n",
      "|10017|         137|\n",
      "|10018|         144|\n",
      "|10019|         533|\n",
      "|10020|          92|\n",
      "+-----+------------+\n",
      "only showing top 20 rows\n",
      "\n",
      "+-----+------------+\n",
      "| zips|permits_2017|\n",
      "+-----+------------+\n",
      "|00083|           9|\n",
      "|10000|           1|\n",
      "|10001|         452|\n",
      "|10002|         235|\n",
      "|10003|         333|\n",
      "|10004|          42|\n",
      "|10005|          27|\n",
      "|10006|          16|\n",
      "|10007|         131|\n",
      "|10009|          79|\n",
      "|10010|         166|\n",
      "|10011|         336|\n",
      "|10012|         281|\n",
      "|10013|         340|\n",
      "|10014|         219|\n",
      "|10016|         111|\n",
      "|10017|         134|\n",
      "|10018|         148|\n",
      "|10019|         463|\n",
      "|10020|          87|\n",
      "+-----+------------+\n",
      "only showing top 20 rows\n",
      "\n",
      "+-----+------------+\n",
      "| zips|permits_2018|\n",
      "+-----+------------+\n",
      "|00083|           9|\n",
      "|10000|           1|\n",
      "|10001|         424|\n",
      "|10002|         254|\n",
      "|10003|         316|\n",
      "|10004|          79|\n",
      "|10005|          89|\n",
      "|10006|          25|\n",
      "|10007|         132|\n",
      "|10009|          79|\n",
      "|10010|         166|\n",
      "|10011|         352|\n",
      "|10012|         236|\n",
      "|10013|         489|\n",
      "|10014|         277|\n",
      "|10016|         143|\n",
      "|10017|         151|\n",
      "|10018|         160|\n",
      "|10019|         490|\n",
      "|10020|          84|\n",
      "+-----+------------+\n",
      "only showing top 20 rows\n",
      "\n",
      "+-----+------------+\n",
      "| zips|permits_2019|\n",
      "+-----+------------+\n",
      "|    0|           1|\n",
      "|00083|           6|\n",
      "|10001|         342|\n",
      "|10002|         160|\n",
      "|10003|         242|\n",
      "|10004|          69|\n",
      "|10005|          74|\n",
      "|10006|          21|\n",
      "|10007|          88|\n",
      "|10009|          32|\n",
      "|10010|         113|\n",
      "|10011|         232|\n",
      "|10012|         170|\n",
      "|10013|         267|\n",
      "|10014|         143|\n",
      "|10016|          79|\n",
      "|10017|          99|\n",
      "|10018|         122|\n",
      "|10019|         270|\n",
      "|10020|          56|\n",
      "+-----+------------+\n",
      "only showing top 20 rows\n",
      "\n"
     ]
    }
   ],
   "source": [
    "import pyspark.sql.functions as func\n",
    "\n",
    "fp_2012_fp = fp.filter(func.col(\"year\") == 2012)\n",
    "fp_2013_fp = fp.filter(func.col(\"year\") == 2013)\n",
    "fp_2014_fp = fp.filter(func.col(\"year\") == 2014)\n",
    "fp_2015_fp = fp.filter(func.col(\"year\") == 2015)\n",
    "fp_2016_fp = fp.filter(func.col(\"year\") == 2016)\n",
    "fp_2017_fp = fp.filter(func.col(\"year\") == 2017)\n",
    "fp_2018_fp = fp.filter(func.col(\"year\") == 2018)\n",
    "fp_2019_fp = fp.filter(func.col(\"year\") == 2019)\n",
    "\n",
    "\n",
    "fp_2012_fp = fp_2012_fp.groupby(\"zips\").agg(func.count(func.lit(1)).alias(\"permits_2012\")).sort(\"zips\")\n",
    "fp_2013_fp = fp_2013_fp.groupby(\"zips\").agg(func.count(func.lit(1)).alias(\"permits_2013\")).sort(\"zips\")\n",
    "fp_2014_fp = fp_2014_fp.groupby(\"zips\").agg(func.count(func.lit(1)).alias(\"permits_2014\")).sort(\"zips\")\n",
    "fp_2015_fp = fp_2015_fp.groupby(\"zips\").agg(func.count(func.lit(1)).alias(\"permits_2015\")).sort(\"zips\")\n",
    "fp_2016_fp = fp_2016_fp.groupby(\"zips\").agg(func.count(func.lit(1)).alias(\"permits_2016\")).sort(\"zips\")\n",
    "fp_2017_fp = fp_2017_fp.groupby(\"zips\").agg(func.count(func.lit(1)).alias(\"permits_2017\")).sort(\"zips\")\n",
    "fp_2018_fp = fp_2018_fp.groupby(\"zips\").agg(func.count(func.lit(1)).alias(\"permits_2018\")).sort(\"zips\")\n",
    "fp_2019_fp = fp_2019_fp.groupby(\"zips\").agg(func.count(func.lit(1)).alias(\"permits_2019\")).sort(\"zips\")\n",
    "fp_2012_fp.show()\n",
    "fp_2013_fp.show()\n",
    "fp_2014_fp.show()\n",
    "fp_2015_fp.show()\n",
    "fp_2016_fp.show()\n",
    "fp_2017_fp.show()\n",
    "fp_2018_fp.show()\n",
    "fp_2019_fp.show()"
   ]
  },
  {
   "cell_type": "code",
   "execution_count": 519,
   "metadata": {},
   "outputs": [
    {
     "name": "stdout",
     "output_type": "stream",
     "text": [
      "+-----+-------+\n",
      "| zips|permits|\n",
      "+-----+-------+\n",
      "|11222|   7294|\n",
      "|11101|   5715|\n",
      "|10036|   4186|\n",
      "|10019|   3977|\n",
      "|10001|   3175|\n",
      "|10013|   3006|\n",
      "|10011|   2773|\n",
      "+-----+-------+\n",
      "\n"
     ]
    }
   ],
   "source": [
    "high_zips = fp.groupby(\"zips\")\\\n",
    ".agg(func.count(func.lit(1)).alias(\"permits\"))\\\n",
    ".sort(func.col(\"permits\").desc())\\\n",
    ".select(\"zips\", \"permits\")\\\n",
    ".limit(7)\n",
    "\n",
    "high_zips.show()"
   ]
  },
  {
   "cell_type": "code",
   "execution_count": 520,
   "metadata": {},
   "outputs": [],
   "source": [
    "# fp_2012_fp.join(high_zips, fp_2012_fp[\"zips\"]==high_zips[\"zips\"]).drop(high_zips.zips).sort(\"zips\").show()\n",
    "# fp_2013_fp.join(high_zips, fp_2013_fp[\"zips\"]==high_zips[\"zips\"]).drop(high_zips.zips).sort(\"zips\").show()\n",
    "# fp_2014_fp.join(high_zips, fp_2014_fp[\"zips\"]==high_zips[\"zips\"]).drop(high_zips.zips).sort(\"zips\").show()\n",
    "# fp_2015_fp.join(high_zips, fp_2015_fp[\"zips\"]==high_zips[\"zips\"]).drop(high_zips.zips).sort(\"zips\").show()\n",
    "# fp_2016_fp.join(high_zips, fp_2016_fp[\"zips\"]==high_zips[\"zips\"]).drop(high_zips.zips).sort(\"zips\").show()\n",
    "# fp_2017_fp.join(high_zips, fp_2017_fp[\"zips\"]==high_zips[\"zips\"]).drop(high_zips.zips).sort(\"zips\").show()\n",
    "# fp_2018_fp.join(high_zips, fp_2018_fp[\"zips\"]==high_zips[\"zips\"]).drop(high_zips.zips).sort(\"zips\").show()\n",
    "# fp_2019_fp.join(high_zips, fp_2019_fp[\"zips\"]==high_zips[\"zips\"]).drop(high_zips.zips).sort(\"zips\").show()"
   ]
  },
  {
   "cell_type": "code",
   "execution_count": 521,
   "metadata": {},
   "outputs": [],
   "source": [
    "import pyspark.sql.functions as f\n",
    "\n",
    "fp_season = fp_original.withColumn(\"date\", f.to_timestamp(\"EndDateTime\", \"MM/dd/yyyy HH:mm:ss \")).withColumn(\"dayOfYear\", f.dayofyear(\"date\")).drop(\"EndDateTime\").drop(\"date\")\n"
   ]
  },
  {
   "cell_type": "code",
   "execution_count": 522,
   "metadata": {},
   "outputs": [],
   "source": [
    "def get_season(day):\n",
    "    spring = range(79, 172)\n",
    "    summer = range(173, 264)\n",
    "    fall = range(265, 355)\n",
    "    \n",
    "    \n",
    "    #return corresponding season\n",
    "    if day in spring:\n",
    "        return 'Spring'\n",
    "    elif day in summer:\n",
    "        return 'Summer'\n",
    "    elif day in fall:\n",
    "        return 'Autumn'\n",
    "    else:\n",
    "        return 'Winter'\n",
    "\n",
    "getSeasonUDF= f.udf(lambda day : get_season(day),StringType())\n",
    "\n",
    "fp_season = fp_season.withColumn(\"season\", getSeasonUDF(f.col(\"dayOfYear\"))).drop(f.col(\"dayOfYear\"))\n"
   ]
  },
  {
   "cell_type": "code",
   "execution_count": 523,
   "metadata": {},
   "outputs": [
    {
     "name": "stdout",
     "output_type": "stream",
     "text": [
      "+-------+------+-----+\n",
      "|EventID|season| zips|\n",
      "+-------+------+-----+\n",
      "| 446040|Autumn|10012|\n",
      "| 446168|Autumn|10034|\n",
      "| 446168|Autumn|10463|\n",
      "| 186438|Autumn|11378|\n",
      "| 445255|Autumn|11201|\n",
      "| 128794|Autumn|10001|\n",
      "| 128794|Autumn|10121|\n",
      "|  43547|Winter|11101|\n",
      "|  43547|Winter|11222|\n",
      "|  66846|Summer|11217|\n",
      "| 104342|Winter|10036|\n",
      "| 244863|Summer|10462|\n",
      "| 446379|Autumn|10014|\n",
      "| 446359|Autumn|10036|\n",
      "| 446359|Autumn|10105|\n",
      "| 203743|Winter|10014|\n",
      "| 203743|Winter|11101|\n",
      "| 446069|Autumn|11203|\n",
      "| 446069|Autumn|11218|\n",
      "| 445165|Autumn|10001|\n",
      "+-------+------+-----+\n",
      "only showing top 20 rows\n",
      "\n"
     ]
    }
   ],
   "source": [
    "fp_season=fp_season.withColumn('tmp', f.split('ZipCode(s)', ', '))                                               \n",
    "fp_season=fp_season.withColumn('zips', f.explode('tmp')).drop(\"tmp\", \"ZipCode(s)\")\n",
    "fp_season=fp_season.filter(f.col(\"zips\")>=10001)\n",
    "\n",
    "\n",
    "fp_season.show()"
   ]
  },
  {
   "cell_type": "code",
   "execution_count": 524,
   "metadata": {
    "scrolled": true
   },
   "outputs": [
    {
     "name": "stdout",
     "output_type": "stream",
     "text": [
      "+-----+------+------+------+------+\n",
      "| zips|Autumn|Spring|Summer|Winter|\n",
      "+-----+------+------+------+------+\n",
      "|10309|    28|    38|    46|    19|\n",
      "|11205|   305|   195|   287|   162|\n",
      "|11236|     1|     5|     7|     3|\n",
      "|11106|   558|   256|   472|   299|\n",
      "|11251|    29|    33|    26|    11|\n",
      "|10110|     6|     6|     2|     1|\n",
      "|11218|   102|   143|   149|    62|\n",
      "|10452|    50|    49|    54|    12|\n",
      "|11428|     1|     0|     0|     2|\n",
      "|10177|    11|    12|     2|     8|\n",
      "|11237|   389|   220|   358|   227|\n",
      "|11379|    27|    32|    33|    15|\n",
      "|11364|    13|     6|     9|    13|\n",
      "|11109|    53|    22|    39|    21|\n",
      "|11249|   466|   404|   468|   234|\n",
      "|10012|   474|   607|   532|   365|\n",
      "|11001|     2|     2|     1|     0|\n",
      "|10039|    32|    24|    16|     8|\n",
      "|11238|   193|   154|   236|   104|\n",
      "|11385|   392|   178|   329|   272|\n",
      "+-----+------+------+------+------+\n",
      "only showing top 20 rows\n",
      "\n"
     ]
    }
   ],
   "source": [
    "fp_season = fp_season.groupby(\"zips\", \"season\").count()\n",
    "fp_season = fp_season.groupby(\"zips\").pivot(\"season\").max(\"count\").fillna(0)\n",
    "fp_season.show()\n"
   ]
  },
  {
   "cell_type": "code",
   "execution_count": 525,
   "metadata": {},
   "outputs": [
    {
     "name": "stdout",
     "output_type": "stream",
     "text": [
      "+-----+------+------+------+------+-------+\n",
      "| zips|Autumn|Spring|Summer|Winter|permits|\n",
      "+-----+------+------+------+------+-------+\n",
      "|11222|  2214|  1437|  2045|  1598|   7294|\n",
      "|11101|  1709|  1107|  1666|  1233|   5715|\n",
      "|10036|   975|  1252|  1257|   702|   4186|\n",
      "|10019|  1156|  1174|   875|   772|   3977|\n",
      "|10001|   856|   950|   768|   601|   3175|\n",
      "|10013|   793|   855|   795|   563|   3006|\n",
      "|10011|   726|   756|   754|   537|   2773|\n",
      "+-----+------+------+------+------+-------+\n",
      "\n"
     ]
    }
   ],
   "source": [
    "fp_high_season = fp_season.join(high_zips, \"zips\").drop(high_zips.zips).sort(f.col(\"permits\").desc())\n",
    "fp_high_season.show()"
   ]
  },
  {
   "cell_type": "code",
   "execution_count": 526,
   "metadata": {},
   "outputs": [
    {
     "data": {
      "image/png": "[encoded data removed]",
      "text/plain": [
       "<Figure size 1296x720 with 1 Axes>"
      ]
     },
     "metadata": {
      "needs_background": "light"
     },
     "output_type": "display_data"
    }
   ],
   "source": [
    "fp_high_pd=fp_high_season.toPandas()\n",
    "\n",
    "\n",
    "import numpy as np\n",
    "import matplotlib.pyplot as plt\n",
    "\n",
    "zl = fp_high_pd[\"zips\"].tolist()\n",
    "# data to plot\n",
    "n_groups = 7\n",
    "a = fp_high_pd[\"Autumn\"]\n",
    "s = fp_high_pd[\"Spring\"]\n",
    "sm =fp_high_pd[\"Summer\"]\n",
    "w = fp_high_pd[\"Winter\"]\n",
    "\n",
    "\n",
    "# create plot\n",
    "fig, ax = plt.subplots(figsize=(18,10))\n",
    "index = np.arange(n_groups)\n",
    "bar_width = 0.2\n",
    "opacity = 0.8\n",
    "\n",
    "rects1 = plt.bar(index, a, bar_width,\n",
    "alpha=opacity,\n",
    "color='r',\n",
    "label='Autumn')\n",
    "\n",
    "rects2 = plt.bar(index + bar_width, s, bar_width,\n",
    "alpha=opacity,\n",
    "color='g',\n",
    "label='Spring')\n",
    "\n",
    "rects3 = plt.bar(index + (2*bar_width), sm, bar_width,\n",
    "alpha=opacity,\n",
    "color='y',\n",
    "label='Summer')\n",
    "\n",
    "rects4 = plt.bar(index + (3*bar_width), w, bar_width,\n",
    "alpha=opacity,\n",
    "color='b',\n",
    "label='Winter')\n",
    "\n",
    "plt.xlabel('Zip')\n",
    "plt.ylabel('Permits')\n",
    "plt.title('# Permits by Season for popular Zips')\n",
    "plt.xticks(index + bar_width, (zl[0], zl[1], zl[2], zl[3], zl[4], zl[5], zl[6]))\n",
    "plt.legend()\n",
    "\n",
    "plt.tight_layout()\n",
    "plt.show()"
   ]
  },
  {
   "cell_type": "code",
   "execution_count": 527,
   "metadata": {},
   "outputs": [
    {
     "name": "stdout",
     "output_type": "stream",
     "text": [
      "+-----+----+----+----+----+----+----+----+----+\n",
      "| zips|2012|2013|2014|2015|2016|2017|2018|2019|\n",
      "+-----+----+----+----+----+----+----+----+----+\n",
      "|11205| 104| 132| 154| 177| 126| 105|  88|  63|\n",
      "|11236|   4|   1|   2|   2|   3|   3|   1|   0|\n",
      "|10309|  12|  14|  16|   9|  12|  18|  20|  30|\n",
      "|11251|  20|   8|  15|  13|  11|  11|  14|   7|\n",
      "|11106| 150| 222| 181| 238| 256| 169| 261| 108|\n",
      "|10110|   0|   0|   0|   0|   3|   6|   2|   4|\n",
      "|11218|  48|  46|  72|  55|  76|  73|  36|  50|\n",
      "|10452|  13|  19|  16|  26|  20|  26|  26|  19|\n",
      "|11428|   0|   0|   0|   2|   0|   0|   1|   0|\n",
      "|10177|   0|   0|   0|   0|   4|  10|  11|   8|\n",
      "|11237|  61|  74|  82| 154| 196| 213| 243| 171|\n",
      "|11379|  18|   6|   6|  19|  23|  15|  15|   5|\n",
      "|11364|   3|   5|   5|   5|   6|   3|  10|   4|\n",
      "|11109|  21|  31|  21|  15|  10|  12|  15|  10|\n",
      "|11249| 155| 235| 263| 284| 179| 180| 163| 113|\n",
      "|10012| 235| 231| 253| 286| 286| 281| 236| 170|\n",
      "|11001|   1|   1|   0|   0|   1|   2|   0|   0|\n",
      "|11238| 100| 117| 100| 109|  71|  82|  59|  49|\n",
      "|11385|  16|  37|  57| 214| 179| 222| 251| 195|\n",
      "|10039|   7|   5|  12|  16|   5|   6|  24|   5|\n",
      "+-----+----+----+----+----+----+----+----+----+\n",
      "only showing top 20 rows\n",
      "\n"
     ]
    }
   ],
   "source": [
    "fp_trend = fp.groupby(\"zips\", \"year\").count()\n",
    "fp_trend = fp_trend.groupby(\"zips\").pivot(\"year\").max(\"count\").fillna(0)\n",
    "fp_trend.show()"
   ]
  },
  {
   "cell_type": "code",
   "execution_count": 528,
   "metadata": {},
   "outputs": [],
   "source": [
    "fp_high_trend = fp_trend.join(high_zips, \"zips\")\\\n",
    ".sort(f.col(\"permits\").desc())\\\n",
    ".drop(high_zips.permits)"
   ]
  },
  {
   "cell_type": "code",
   "execution_count": 529,
   "metadata": {},
   "outputs": [
    {
     "name": "stdout",
     "output_type": "stream",
     "text": [
      "[686 747 968 1016 1014 1046 1165 652]\n"
     ]
    },
    {
     "name": "stderr",
     "output_type": "stream",
     "text": [
      "/usr/local/lib/python3.7/site-packages/ipykernel_launcher.py:16: RuntimeWarning: Second argument 'y1' is ambiguous: could be a color spec but is in data; using as data.  Either rename the entry in data or use three arguments to plot.\n",
      "  app.launch_new_instance()\n",
      "/usr/local/lib/python3.7/site-packages/ipykernel_launcher.py:17: RuntimeWarning: Second argument 'y2' is ambiguous: could be a color spec but is in data; using as data.  Either rename the entry in data or use three arguments to plot.\n",
      "/usr/local/lib/python3.7/site-packages/ipykernel_launcher.py:18: RuntimeWarning: Second argument 'y3' is ambiguous: could be a color spec but is in data; using as data.  Either rename the entry in data or use three arguments to plot.\n",
      "/usr/local/lib/python3.7/site-packages/ipykernel_launcher.py:19: RuntimeWarning: Second argument 'y4' is ambiguous: could be a color spec but is in data; using as data.  Either rename the entry in data or use three arguments to plot.\n"
     ]
    },
    {
     "data": {
      "text/plain": [
       "<matplotlib.legend.Legend at 0x113124b50>"
      ]
     },
     "execution_count": 529,
     "metadata": {},
     "output_type": "execute_result"
    },
    {
     "data": {
      "image/png": "[encoded data removed]",
      "text/plain": [
       "<Figure size 1296x720 with 1 Axes>"
      ]
     },
     "metadata": {
      "needs_background": "light"
     },
     "output_type": "display_data"
    }
   ],
   "source": [
    "fp_high_trend_pd = fp_high_trend.toPandas()\n",
    "zl = fp_high_trend_pd[\"zips\"].tolist()\n",
    "import matplotlib.pyplot as plt\n",
    "print (fp_high_trend_pd.iloc[0,1:].values)\n",
    "df=pd.DataFrame({'x': range(2012,2020)\n",
    "                 , 'y1': fp_high_trend_pd.iloc[0,1:].values\n",
    "                 , 'y2': fp_high_trend_pd.iloc[1,1:].values\n",
    "                 , 'y3': fp_high_trend_pd.iloc[2,1:].values\n",
    "                 , 'y4': fp_high_trend_pd.iloc[3,1:].values\n",
    "                 , 'y5': fp_high_trend_pd.iloc[4,1:].values\n",
    "                 , 'y6': fp_high_trend_pd.iloc[5,1:].values\n",
    "                 , 'y7': fp_high_trend_pd.iloc[6,1:].values\n",
    "                })\n",
    "\n",
    "plt.figure(figsize=(18,10))\n",
    "plt.plot( 'x', 'y1', data=df, marker='o', color='skyblue', linewidth=2, label=zl[0])\n",
    "plt.plot( 'x', 'y2', data=df, marker='x', color='olive', linewidth=2, label=zl[1])\n",
    "plt.plot( 'x', 'y3', data=df, marker='o', color='green', linewidth=2, label=zl[2])\n",
    "plt.plot( 'x', 'y4', data=df, marker='o', color='purple', linewidth=2, label=zl[3])\n",
    "plt.plot( 'x', 'y5', data=df, marker='x', color='blue', linewidth=2, label=zl[4])\n",
    "plt.plot( 'x', 'y6', data=df, marker='o', color='red', linewidth=2, label=zl[5])\n",
    "plt.plot( 'x', 'y7', data=df, marker='o', color='orange', linewidth=2, label=zl[6])\n",
    "\n",
    "plt.legend()\n"
   ]
  },
  {
   "cell_type": "code",
   "execution_count": null,
   "metadata": {},
   "outputs": [],
   "source": []
  }
 ],
 "metadata": {
  "kernelspec": {
   "display_name": "Python 3",
   "language": "python",
   "name": "python3"
  },
  "language_info": {
   "codemirror_mode": {
    "name": "ipython",
    "version": 3
   },
   "file_extension": ".py",
   "mimetype": "text/x-python",
   "name": "python",
   "nbconvert_exporter": "python",
   "pygments_lexer": "ipython3",
   "version": "3.7.5"
  }
 },
 "nbformat": 4,
 "nbformat_minor": 2
}
