{
 "cells": [
  {
   "cell_type": "code",
   "execution_count": 81,
   "metadata": {},
   "outputs": [],
   "source": [
    "from pyspark import SQLContext\n",
    "from pyspark.sql.functions import unix_timestamp, from_unixtime\n",
    "sqlContext = SQLContext(sc)\n",
    "\n",
    "df = sqlContext.read.format('com.databricks.spark.csv') \\\n",
    "    .options(header='true', inferschema='true') \\\n",
    "    .load('Film_Permits.csv')"
   ]
  },
  {
   "cell_type": "code",
   "execution_count": 82,
   "metadata": {},
   "outputs": [
    {
     "data": {
      "text/plain": [
       "[Row(EventID=300134, EventType='Shooting Permit', StartDateTime='07/18/2016 06:00:00 AM', EndDateTime='07/18/2016 12:00:00 PM', EnteredOn='07/13/2016 10:28:02 AM', EventAgency=\"Mayor's Office of Film, Theatre & Broadcasting\", ParkingHeld='COLUMBUS AVENUE between WEST   67 STREET and WEST   66 STREET', Borough='Manhattan', CommunityBoard(s)='7', PolicePrecinct(s)='20', Category='Television', SubCategoryName='Morning Show', Country='United States of America', ZipCode(s)='10023'),\n",
       " Row(EventID=299797, EventType='Shooting Permit', StartDateTime='07/18/2016 07:00:00 AM', EndDateTime='07/18/2016 07:00:00 PM', EnteredOn='07/11/2016 06:49:08 PM', EventAgency=\"Mayor's Office of Film, Theatre & Broadcasting\", ParkingHeld='22 STREET between QUEENS PLAZA SOUTH and 43 AVENUE,  21 STREET between QUEENS PLAZA SOUTH and 43 AVENUE,  QUEENS PLAZA SOUTH between 21 STREET and 22 STREET,  QUEENS PLAZA SOUTH between 21 STREET and 22 STREET', Borough='Queens', CommunityBoard(s)='2', PolicePrecinct(s)='108', Category='Television', SubCategoryName='Cable-episodic', Country='United States of America', ZipCode(s)='11101'),\n",
       " Row(EventID=300179, EventType='Shooting Permit', StartDateTime='07/18/2016 07:00:00 AM', EndDateTime='07/18/2016 10:00:00 PM', EnteredOn='07/13/2016 12:11:19 PM', EventAgency=\"Mayor's Office of Film, Theatre & Broadcasting\", ParkingHeld='MONITOR STREET between NORMAN AVENUE and GREENPOINT AVENUE,  KINGSLAND AVENUE between GREENPOINT AVENUE and NORMAN AVENUE,  GREENPOINT AVENUE between STARR AVENUE and BRADLEY AVENUE,  LAUREL HILL BOULEVARD between 56 ROAD and 54 AVENUE,  GREENPOINT AVENUE between GALE AVENUE and BORDEN AVENUE', Borough='Queens', CommunityBoard(s)='1, 2', PolicePrecinct(s)='108, 94', Category='Television', SubCategoryName='Episodic series', Country='United States of America', ZipCode(s)='11101, 11222, 11378'),\n",
       " Row(EventID=300630, EventType='Shooting Permit', StartDateTime='07/18/2016 12:00:00 PM', EndDateTime='07/18/2016 09:00:00 PM', EnteredOn='07/14/2016 10:13:56 PM', EventAgency=\"Mayor's Office of Film, Theatre & Broadcasting\", ParkingHeld='ROCKAWAY BEACH BOULEVARD between BEACH   69 STREET and BEACH   67 STREET', Borough='Queens', CommunityBoard(s)='14', PolicePrecinct(s)='100', Category='Commercial', SubCategoryName='Commercial', Country='United States of America', ZipCode(s)='11692'),\n",
       " Row(EventID=300127, EventType='Shooting Permit', StartDateTime='07/18/2016 06:00:00 AM', EndDateTime='07/18/2016 11:59:00 PM', EnteredOn='07/13/2016 10:04:20 AM', EventAgency=\"Mayor's Office of Film, Theatre & Broadcasting\", ParkingHeld='10 AVENUE between WEST   26 STREET and WEST   27 STREET,  WEST   27 STREET between 10 AVENUE and 11 AVENUE', Borough='Manhattan', CommunityBoard(s)='4', PolicePrecinct(s)='10', Category='Television', SubCategoryName='Reality', Country='United States of America', ZipCode(s)='10001')]"
      ]
     },
     "execution_count": 82,
     "metadata": {},
     "output_type": "execute_result"
    }
   ],
   "source": [
    "df.head(5)"
   ]
  },
  {
   "cell_type": "markdown",
   "metadata": {},
   "source": [
    "# Data Cleaning"
   ]
  },
  {
   "cell_type": "code",
   "execution_count": 71,
   "metadata": {},
   "outputs": [],
   "source": [
    "df = df.orderBy(df.EventID.asc()) ## sort by EventId"
   ]
  },
  {
   "cell_type": "code",
   "execution_count": 72,
   "metadata": {},
   "outputs": [
    {
     "data": {
      "text/plain": [
       "[Row(EventID=42069, EventType='Theater Load in and Load Outs', StartDateTime='01/02/2012 07:00:00 AM', EndDateTime='01/27/2012 10:00:00 PM', EnteredOn='12/07/2011 04:38:54 PM', EventAgency=\"Mayor's Office of Film, Theatre & Broadcasting\", ParkingHeld='WEST   44 STREET between 7 AVENUE and 8 AVENUE', Borough='Manhattan', CommunityBoard(s)='5', PolicePrecinct(s)='14', Category='Theater', SubCategoryName='Theater', Country='United States of America', ZipCode(s)='10036'),\n",
       " Row(EventID=42287, EventType='Shooting Permit', StartDateTime='01/05/2012 01:00:00 PM', EndDateTime='01/05/2012 11:30:00 PM', EnteredOn='12/09/2011 02:08:35 PM', EventAgency=\"Mayor's Office of Film, Theatre & Broadcasting\", ParkingHeld='WEST   65 STREET between BROADWAY and WEST END AVENUE', Borough='Manhattan', CommunityBoard(s)='7', PolicePrecinct(s)='20', Category='Theater', SubCategoryName='Theater', Country='United States of America', ZipCode(s)='10023'),\n",
       " Row(EventID=42581, EventType='Shooting Permit', StartDateTime='01/03/2012 10:00:00 AM', EndDateTime='01/03/2012 09:00:00 PM', EnteredOn='12/14/2011 09:56:47 AM', EventAgency=\"Mayor's Office of Film, Theatre & Broadcasting\", ParkingHeld='46 ROAD between 5 STREET and VERNON BOULEVARD,  VERNON BOULEVARD between 45 ROAD and 46 ROAD,  46 ROAD between VERNON BOULEVARD and 11 STREET,  46 AVENUE between VERNON BOULEVARD and 5 STREET,  5 STREET between 46 AVENUE and 46 ROAD', Borough='Queens', CommunityBoard(s)='2', PolicePrecinct(s)='108', Category='Television', SubCategoryName='Episodic series', Country='United States of America', ZipCode(s)='11101'),\n",
       " Row(EventID=42727, EventType='Shooting Permit', StartDateTime='01/03/2012 08:00:00 AM', EndDateTime='01/03/2012 10:00:00 PM', EnteredOn='12/15/2011 01:27:48 PM', EventAgency=\"Mayor's Office of Film, Theatre & Broadcasting\", ParkingHeld='22ND STREET between QUEENS PLAZA SOUTH and 43RD AVENUE,  43RD AVENUE between 21 STREET and 22ND STREET', Borough='Queens', CommunityBoard(s)='2', PolicePrecinct(s)='108', Category='Television', SubCategoryName='Episodic series', Country='United States of America', ZipCode(s)='11101'),\n",
       " Row(EventID=42737, EventType='Theater Load in and Load Outs', StartDateTime='01/02/2012 06:00:00 AM', EndDateTime='01/18/2012 08:00:00 PM', EnteredOn='12/15/2011 02:06:52 PM', EventAgency=\"Mayor's Office of Film, Theatre & Broadcasting\", ParkingHeld='WEST   46 STREET between 7 AVENUE and 8 AVENUE', Borough='Manhattan', CommunityBoard(s)='5', PolicePrecinct(s)='18', Category='Theater', SubCategoryName='Theater', Country='United States of America', ZipCode(s)='10036')]"
      ]
     },
     "execution_count": 72,
     "metadata": {},
     "output_type": "execute_result"
    }
   ],
   "source": [
    "df.head(5)"
   ]
  },
  {
   "cell_type": "markdown",
   "metadata": {},
   "source": [
    "## Deleting columns from dataframe"
   ]
  },
  {
   "cell_type": "code",
   "execution_count": 73,
   "metadata": {},
   "outputs": [],
   "source": [
    "cols=[\"EventAgency\",\"CommunityBoard(s)\",\"PolicePrecinct(s)\",\"Country\"]\n",
    "df = df.drop(*cols)"
   ]
  },
  {
   "cell_type": "markdown",
   "metadata": {},
   "source": [
    "## Setting new column names"
   ]
  },
  {
   "cell_type": "code",
   "execution_count": 74,
   "metadata": {},
   "outputs": [
    {
     "data": {
      "text/plain": [
       "[Row(EventID=42069, EventType='Theater Load in and Load Outs', StartDateTime='01/02/2012 07:00:00 AM', EndDateTime='01/27/2012 10:00:00 PM', EnteredOn='12/07/2011 04:38:54 PM', ParkingHeld='WEST   44 STREET between 7 AVENUE and 8 AVENUE', Borough='Manhattan', Category='Theater', SubCategoryName='Theater', ZipCode(s)='10036'),\n",
       " Row(EventID=42287, EventType='Shooting Permit', StartDateTime='01/05/2012 01:00:00 PM', EndDateTime='01/05/2012 11:30:00 PM', EnteredOn='12/09/2011 02:08:35 PM', ParkingHeld='WEST   65 STREET between BROADWAY and WEST END AVENUE', Borough='Manhattan', Category='Theater', SubCategoryName='Theater', ZipCode(s)='10023')]"
      ]
     },
     "execution_count": 74,
     "metadata": {},
     "output_type": "execute_result"
    }
   ],
   "source": [
    "df.head(2)"
   ]
  },
  {
   "cell_type": "code",
   "execution_count": 75,
   "metadata": {},
   "outputs": [
    {
     "name": "stdout",
     "output_type": "stream",
     "text": [
      "root\n",
      " |-- EventID: integer (nullable = true)\n",
      " |-- EventType: string (nullable = true)\n",
      " |-- StartDateTime: string (nullable = true)\n",
      " |-- EndDateTime: string (nullable = true)\n",
      " |-- EnteredOn: string (nullable = true)\n",
      " |-- ParkingHeld: string (nullable = true)\n",
      " |-- Borough: string (nullable = true)\n",
      " |-- Category: string (nullable = true)\n",
      " |-- SubCategoryName: string (nullable = true)\n",
      " |-- ZipCode(s): string (nullable = true)\n",
      "\n"
     ]
    }
   ],
   "source": [
    "df.printSchema()"
   ]
  },
  {
   "cell_type": "code",
   "execution_count": 76,
   "metadata": {},
   "outputs": [],
   "source": [
    "import pandas as pd\n",
    "import matplotlib.pyplot as plt\n",
    "import seaborn as sns"
   ]
  },
  {
   "cell_type": "code",
   "execution_count": 77,
   "metadata": {},
   "outputs": [
    {
     "data": {
      "text/html": [
       "<div>\n",
       "<style scoped>\n",
       "    .dataframe tbody tr th:only-of-type {\n",
       "        vertical-align: middle;\n",
       "    }\n",
       "\n",
       "    .dataframe tbody tr th {\n",
       "        vertical-align: top;\n",
       "    }\n",
       "\n",
       "    .dataframe thead th {\n",
       "        text-align: right;\n",
       "    }\n",
       "</style>\n",
       "<table border=\"1\" class=\"dataframe\">\n",
       "  <thead>\n",
       "    <tr style=\"text-align: right;\">\n",
       "      <th></th>\n",
       "      <th>EventID</th>\n",
       "      <th>EventType</th>\n",
       "      <th>StartDateTime</th>\n",
       "      <th>EndDateTime</th>\n",
       "      <th>EnteredOn</th>\n",
       "      <th>ParkingHeld</th>\n",
       "      <th>Borough</th>\n",
       "      <th>Category</th>\n",
       "      <th>SubCategoryName</th>\n",
       "      <th>ZipCode(s)</th>\n",
       "    </tr>\n",
       "  </thead>\n",
       "  <tbody>\n",
       "    <tr>\n",
       "      <td>0</td>\n",
       "      <td>42069</td>\n",
       "      <td>Theater Load in and Load Outs</td>\n",
       "      <td>01/02/2012 07:00:00 AM</td>\n",
       "      <td>01/27/2012 10:00:00 PM</td>\n",
       "      <td>12/07/2011 04:38:54 PM</td>\n",
       "      <td>WEST   44 STREET between 7 AVENUE and 8 AVENUE</td>\n",
       "      <td>Manhattan</td>\n",
       "      <td>Theater</td>\n",
       "      <td>Theater</td>\n",
       "      <td>10036</td>\n",
       "    </tr>\n",
       "    <tr>\n",
       "      <td>1</td>\n",
       "      <td>42287</td>\n",
       "      <td>Shooting Permit</td>\n",
       "      <td>01/05/2012 01:00:00 PM</td>\n",
       "      <td>01/05/2012 11:30:00 PM</td>\n",
       "      <td>12/09/2011 02:08:35 PM</td>\n",
       "      <td>WEST   65 STREET between BROADWAY and WEST END...</td>\n",
       "      <td>Manhattan</td>\n",
       "      <td>Theater</td>\n",
       "      <td>Theater</td>\n",
       "      <td>10023</td>\n",
       "    </tr>\n",
       "    <tr>\n",
       "      <td>2</td>\n",
       "      <td>42581</td>\n",
       "      <td>Shooting Permit</td>\n",
       "      <td>01/03/2012 10:00:00 AM</td>\n",
       "      <td>01/03/2012 09:00:00 PM</td>\n",
       "      <td>12/14/2011 09:56:47 AM</td>\n",
       "      <td>46 ROAD between 5 STREET and VERNON BOULEVARD,...</td>\n",
       "      <td>Queens</td>\n",
       "      <td>Television</td>\n",
       "      <td>Episodic series</td>\n",
       "      <td>11101</td>\n",
       "    </tr>\n",
       "    <tr>\n",
       "      <td>3</td>\n",
       "      <td>42727</td>\n",
       "      <td>Shooting Permit</td>\n",
       "      <td>01/03/2012 08:00:00 AM</td>\n",
       "      <td>01/03/2012 10:00:00 PM</td>\n",
       "      <td>12/15/2011 01:27:48 PM</td>\n",
       "      <td>22ND STREET between QUEENS PLAZA SOUTH and 43R...</td>\n",
       "      <td>Queens</td>\n",
       "      <td>Television</td>\n",
       "      <td>Episodic series</td>\n",
       "      <td>11101</td>\n",
       "    </tr>\n",
       "    <tr>\n",
       "      <td>4</td>\n",
       "      <td>42737</td>\n",
       "      <td>Theater Load in and Load Outs</td>\n",
       "      <td>01/02/2012 06:00:00 AM</td>\n",
       "      <td>01/18/2012 08:00:00 PM</td>\n",
       "      <td>12/15/2011 02:06:52 PM</td>\n",
       "      <td>WEST   46 STREET between 7 AVENUE and 8 AVENUE</td>\n",
       "      <td>Manhattan</td>\n",
       "      <td>Theater</td>\n",
       "      <td>Theater</td>\n",
       "      <td>10036</td>\n",
       "    </tr>\n",
       "  </tbody>\n",
       "</table>\n",
       "</div>"
      ],
      "text/plain": [
       "   EventID                      EventType           StartDateTime  \\\n",
       "0    42069  Theater Load in and Load Outs  01/02/2012 07:00:00 AM   \n",
       "1    42287                Shooting Permit  01/05/2012 01:00:00 PM   \n",
       "2    42581                Shooting Permit  01/03/2012 10:00:00 AM   \n",
       "3    42727                Shooting Permit  01/03/2012 08:00:00 AM   \n",
       "4    42737  Theater Load in and Load Outs  01/02/2012 06:00:00 AM   \n",
       "\n",
       "              EndDateTime               EnteredOn  \\\n",
       "0  01/27/2012 10:00:00 PM  12/07/2011 04:38:54 PM   \n",
       "1  01/05/2012 11:30:00 PM  12/09/2011 02:08:35 PM   \n",
       "2  01/03/2012 09:00:00 PM  12/14/2011 09:56:47 AM   \n",
       "3  01/03/2012 10:00:00 PM  12/15/2011 01:27:48 PM   \n",
       "4  01/18/2012 08:00:00 PM  12/15/2011 02:06:52 PM   \n",
       "\n",
       "                                         ParkingHeld    Borough    Category  \\\n",
       "0     WEST   44 STREET between 7 AVENUE and 8 AVENUE  Manhattan     Theater   \n",
       "1  WEST   65 STREET between BROADWAY and WEST END...  Manhattan     Theater   \n",
       "2  46 ROAD between 5 STREET and VERNON BOULEVARD,...     Queens  Television   \n",
       "3  22ND STREET between QUEENS PLAZA SOUTH and 43R...     Queens  Television   \n",
       "4     WEST   46 STREET between 7 AVENUE and 8 AVENUE  Manhattan     Theater   \n",
       "\n",
       "   SubCategoryName ZipCode(s)  \n",
       "0          Theater      10036  \n",
       "1          Theater      10023  \n",
       "2  Episodic series      11101  \n",
       "3  Episodic series      11101  \n",
       "4          Theater      10036  "
      ]
     },
     "execution_count": 77,
     "metadata": {},
     "output_type": "execute_result"
    }
   ],
   "source": [
    "df2 = df.select(\"*\").toPandas()\n",
    "df2.head()"
   ]
  },
  {
   "cell_type": "code",
   "execution_count": 78,
   "metadata": {},
   "outputs": [
    {
     "data": {
      "image/png": "[encoded data removed]",
      "text/plain": [
       "<Figure size 576x576 with 1 Axes>"
      ]
     },
     "metadata": {
      "needs_background": "light"
     },
     "output_type": "display_data"
    }
   ],
   "source": [
    "df2['month'] = pd.DatetimeIndex(df2['StartDateTime']).month\n",
    "df2['month'].value_counts(dropna = False)\n",
    "\n",
    "plt.figure(figsize = (8,8))\n",
    "pic1 = sns.countplot(y=\"month\", data=df2)\n",
    "pic1.set_title(\"Number of film permits by Month\")\n",
    "pic1.set_xlabel(\"Number of film permits\", fontsize=12)\n",
    "pic1.set_ylabel(\"Month\", fontsize=12)\n",
    "\n",
    "plt.show()"
   ]
  },
  {
   "cell_type": "markdown",
   "metadata": {},
   "source": [
    "We can see from the above plot that october is the month in which there are maximum number of film permits. Apart from october, november, august and september are also the most popular months for films.\n",
    "From the above graph we can see that january and december have least number of film permits."
   ]
  },
  {
   "cell_type": "code",
   "execution_count": null,
   "metadata": {},
   "outputs": [],
   "source": []
  },
  {
   "cell_type": "code",
   "execution_count": null,
   "metadata": {},
   "outputs": [],
   "source": []
  },
  {
   "cell_type": "code",
   "execution_count": null,
   "metadata": {},
   "outputs": [],
   "source": []
  },
  {
   "cell_type": "code",
   "execution_count": null,
   "metadata": {},
   "outputs": [],
   "source": []
  }
 ],
 "metadata": {
  "kernelspec": {
   "display_name": "Python 3",
   "language": "python",
   "name": "python3"
  },
  "language_info": {
   "codemirror_mode": {
    "name": "ipython",
    "version": 3
   },
   "file_extension": ".py",
   "mimetype": "text/x-python",
   "name": "python",
   "nbconvert_exporter": "python",
   "pygments_lexer": "ipython3",
   "version": "3.7.4"
  }
 },
 "nbformat": 4,
 "nbformat_minor": 2
}
