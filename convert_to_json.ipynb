{
 "cells": [
  {
   "cell_type": "code",
   "execution_count": 8,
   "metadata": {},
   "outputs": [],
   "source": [
    "from pyspark.sql import SparkSession\n",
    "from pyspark.sql.types import *\n",
    "from scipy.ndimage.filters import gaussian_filter\n",
    "import matplotlib.cm as cm\n",
    "from matplotlib.colors import Normalize\n",
    "import numpy as np\n",
    "import matplotlib.pyplot as plt\n",
    "import pandas as pd\n",
    "# import seaborn as sns\n",
    "%matplotlib inline\n",
    "\n",
    "\n",
    "spark = SparkSession.builder\\\n",
    "    .appName(\"mongo\")\\\n",
    "    .getOrCreate()\n",
    "\n"
   ]
  },
  {
   "cell_type": "code",
   "execution_count": 9,
   "metadata": {},
   "outputs": [],
   "source": [
    "fp = spark.read.csv('/Users/vvviren/MyDev/bd apps/Film_Permits.csv',header='true')"
   ]
  },
  {
   "cell_type": "code",
   "execution_count": 10,
   "metadata": {},
   "outputs": [],
   "source": [
    "cols = [\n",
    " 'EventType',\n",
    " 'StartDateTime',\n",
    " 'EndDateTime',\n",
    " 'EnteredOn',\n",
    " 'EventAgency',\n",
    " 'ParkingHeld',\n",
    " 'Borough',\n",
    " 'CommunityBoard(s)',\n",
    " 'PolicePrecinct(s)',\n",
    " 'Category',\n",
    " 'SubCategoryName',\n",
    " 'Country']\n",
    "fp=fp.drop(*cols)"
   ]
  },
  {
   "cell_type": "code",
   "execution_count": 11,
   "metadata": {},
   "outputs": [],
   "source": [
    "import pyspark.sql.functions as f\n",
    "\n",
    "\n",
    "fp=fp.withColumn('tmp', f.split('ZipCode(s)', ', '))                                               \n",
    "fp=fp.withColumn('zips', f.explode('tmp')).drop(\"tmp\", \"ZipCode(s)\", \"EventID\")\n",
    "\n",
    "\n",
    "fp=fp.filter(f.col(\"zips\")>=10001)\n",
    "\n",
    "fp = fp.groupby(\"zips\").count()\n",
    "\n"
   ]
  },
  {
   "cell_type": "code",
   "execution_count": 12,
   "metadata": {},
   "outputs": [
    {
     "name": "stdout",
     "output_type": "stream",
     "text": [
      "+-----+-----+\n",
      "| zips|count|\n",
      "+-----+-----+\n",
      "|11205|  949|\n",
      "|10309|  131|\n",
      "|11236|   16|\n",
      "|11106| 1585|\n",
      "|11251|   99|\n",
      "|10110|   15|\n",
      "|11218|  456|\n",
      "|10452|  165|\n",
      "|11428|    3|\n",
      "|11237| 1194|\n",
      "|10177|   33|\n",
      "|11379|  107|\n",
      "|11364|   41|\n",
      "|11109|  135|\n",
      "|11249| 1572|\n",
      "|10012| 1978|\n",
      "|11001|    5|\n",
      "|11238|  687|\n",
      "|11385| 1171|\n",
      "|10039|   80|\n",
      "+-----+-----+\n",
      "only showing top 20 rows\n",
      "\n"
     ]
    }
   ],
   "source": [
    "fp.show()"
   ]
  },
  {
   "cell_type": "code",
   "execution_count": 14,
   "metadata": {},
   "outputs": [
    {
     "name": "stdout",
     "output_type": "stream",
     "text": [
      "+-------+----------+-----------+\n",
      "|zipcode|       lat|        lon|\n",
      "+-------+----------+-----------+\n",
      "|  10001| 40.750422| -73.996328|\n",
      "|  10002| 40.718758| -73.986427|\n",
      "|  10003| 40.730223| -73.988564|\n",
      "|  10004|40.7038704|-74.0160428|\n",
      "|  10005| 40.706903| -74.008654|\n",
      "|  10006| 40.708834| -74.013168|\n",
      "|  10007| 40.713941| -74.007401|\n",
      "|  10009|  40.72775| -73.980396|\n",
      "|  10010| 40.739024| -73.983542|\n",
      "|  10011| 40.740916| -73.999769|\n",
      "|  10012| 40.729124| -73.991582|\n",
      "|  10013| 40.722105| -74.003497|\n",
      "|  10014| 40.738088| -74.005095|\n",
      "|  10016| 40.745527| -73.978449|\n",
      "|  10017| 40.752955| -73.973196|\n",
      "|  10018| 40.755332| -73.993172|\n",
      "|  10019| 40.765926| -73.985443|\n",
      "|  10020| 40.735449| -73.996788|\n",
      "|  10021| 40.768823| -73.960257|\n",
      "|  10022| 40.758775| -73.967842|\n",
      "+-------+----------+-----------+\n",
      "only showing top 20 rows\n",
      "\n"
     ]
    }
   ],
   "source": [
    "geo = spark.read.csv('/Users/vvviren/MyDev/bd apps/nycziptags.csv',header='true')\n",
    "\n",
    "geo.show()\n"
   ]
  },
  {
   "cell_type": "code",
   "execution_count": 15,
   "metadata": {},
   "outputs": [
    {
     "name": "stdout",
     "output_type": "stream",
     "text": [
      "root\n",
      " |-- zipcode: string (nullable = true)\n",
      " |-- lat: string (nullable = true)\n",
      " |-- lon: string (nullable = true)\n",
      "\n"
     ]
    }
   ],
   "source": [
    "geo.printSchema()"
   ]
  },
  {
   "cell_type": "code",
   "execution_count": 17,
   "metadata": {},
   "outputs": [
    {
     "name": "stdout",
     "output_type": "stream",
     "text": [
      "root\n",
      " |-- zipcode: integer (nullable = true)\n",
      " |-- lat: float (nullable = true)\n",
      " |-- lon: float (nullable = true)\n",
      "\n"
     ]
    }
   ],
   "source": [
    "geo = geo.withColumn(\"zipcode\", f.trim(f.col('zipcode')))\n",
    "\n",
    "geo = geo.withColumn(\"zipcode\", f.col('zipcode').cast('int'))\n",
    "geo = geo.withColumn(\"lat\", f.trim(f.col('lat')))\n",
    "\n",
    "geo = geo.withColumn(\"lat\", f.col('lat').cast('float'))\n",
    "geo = geo.withColumn(\"lon\", f.trim(f.col('lon')))\n",
    "\n",
    "geo = geo.withColumn(\"lon\", f.col('lon').cast('float'))\n",
    "geo.printSchema()"
   ]
  },
  {
   "cell_type": "code",
   "execution_count": 19,
   "metadata": {},
   "outputs": [
    {
     "name": "stdout",
     "output_type": "stream",
     "text": [
      "+-----+-------+---------+----------+\n",
      "|count|zipcode|      lat|       lon|\n",
      "+-----+-------+---------+----------+\n",
      "|  949|  11205|40.682507| -73.93627|\n",
      "|  131|  10309| 40.53177| -74.21878|\n",
      "|   16|  11236| 40.65701| -73.91581|\n",
      "| 1585|  11106|  40.7606|-73.930984|\n",
      "|   99|  11251|  40.6451| -73.94503|\n",
      "|   15|  10110|40.753986| -73.98081|\n",
      "|  456|  11218| 40.64434| -73.97841|\n",
      "|  165|  10452| 40.83873| -73.92161|\n",
      "|    3|  11428| 40.72064|-73.742096|\n",
      "| 1194|  11237| 40.70219| -73.91807|\n",
      "|   33|  10177|40.755333| -73.97608|\n",
      "|  107|  11379| 40.71924| -73.89279|\n",
      "|   41|  11364| 40.74277| -73.75883|\n",
      "|  135|  11109| 40.65138| -73.87078|\n",
      "| 1572|  11249|  40.6451| -73.94503|\n",
      "| 1978|  10012|40.729122|-73.991585|\n",
      "|    5|  11001| 40.72005| -73.70678|\n",
      "|  687|  11238| 40.68059| -73.96393|\n",
      "| 1171|  11385|40.702404| -73.88598|\n",
      "|   80|  10039|40.826736|  -73.9394|\n",
      "+-----+-------+---------+----------+\n",
      "only showing top 20 rows\n",
      "\n"
     ]
    }
   ],
   "source": [
    "fp_geo = fp.join(geo, fp[\"zips\"]==geo[\"zipcode\"], how=\"inner\").drop(\"zips\")\n",
    "fp_geo.show()"
   ]
  },
  {
   "cell_type": "code",
   "execution_count": 25,
   "metadata": {},
   "outputs": [],
   "source": [
    "pandas_df = fp_geo.toPandas()\n",
    "pandas_df.to_json('/Users/vvviren/MyDev/bd apps/fp_geo.json', orient='records')\n",
    "\n",
    "# fp_geo.coalesce(1).write.format('json').save('/Users/vvviren/MyDev/bd apps/ab.json')\n"
   ]
  },
  {
   "cell_type": "code",
   "execution_count": null,
   "metadata": {},
   "outputs": [],
   "source": []
  }
 ],
 "metadata": {
  "kernelspec": {
   "display_name": "Python 3",
   "language": "python",
   "name": "python3"
  },
  "language_info": {
   "codemirror_mode": {
    "name": "ipython",
    "version": 3
   },
   "file_extension": ".py",
   "mimetype": "text/x-python",
   "name": "python",
   "nbconvert_exporter": "python",
   "pygments_lexer": "ipython3",
   "version": "3.7.5"
  }
 },
 "nbformat": 4,
 "nbformat_minor": 2
}
