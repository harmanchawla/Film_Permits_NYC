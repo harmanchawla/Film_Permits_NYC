{
 "cells": [
  {
   "cell_type": "code",
   "execution_count": 209,
   "metadata": {},
   "outputs": [],
   "source": [
    "from pyspark.sql import SparkSession\n",
    "from pyspark.sql.types import *\n",
    "from scipy.ndimage.filters import gaussian_filter\n",
    "import matplotlib.cm as cm\n",
    "from matplotlib.colors import Normalize\n",
    "import numpy as np\n",
    "import matplotlib.pyplot as plt\n",
    "import pandas as pd\n",
    "# import seaborn as sns\n",
    "%matplotlib inline\n",
    "\n"
   ]
  },
  {
   "cell_type": "code",
   "execution_count": 210,
   "metadata": {},
   "outputs": [],
   "source": [
    "spark = SparkSession.builder\\\n",
    "    .appName(\"demographics\")\\\n",
    "    .getOrCreate()"
   ]
  },
  {
   "cell_type": "code",
   "execution_count": 211,
   "metadata": {},
   "outputs": [],
   "source": [
    "demog = spark.read.csv('/Users/vvviren/Desktop/Demographic_Statistics_By_Zip_Code.csv',header='true')\n"
   ]
  },
  {
   "cell_type": "code",
   "execution_count": 212,
   "metadata": {
    "scrolled": true
   },
   "outputs": [
    {
     "name": "stdout",
     "output_type": "stream",
     "text": [
      "root\n",
      " |-- JURISDICTION NAME: string (nullable = true)\n",
      " |-- COUNT PARTICIPANTS: string (nullable = true)\n",
      " |-- COUNT FEMALE: string (nullable = true)\n",
      " |-- PERCENT FEMALE: string (nullable = true)\n",
      " |-- COUNT MALE: string (nullable = true)\n",
      " |-- PERCENT MALE: string (nullable = true)\n",
      " |-- COUNT GENDER UNKNOWN: string (nullable = true)\n",
      " |-- PERCENT GENDER UNKNOWN: string (nullable = true)\n",
      " |-- COUNT GENDER TOTAL: string (nullable = true)\n",
      " |-- PERCENT GENDER TOTAL: string (nullable = true)\n",
      " |-- COUNT PACIFIC ISLANDER: string (nullable = true)\n",
      " |-- PERCENT PACIFIC ISLANDER: string (nullable = true)\n",
      " |-- COUNT HISPANIC LATINO: string (nullable = true)\n",
      " |-- PERCENT HISPANIC LATINO: string (nullable = true)\n",
      " |-- COUNT AMERICAN INDIAN: string (nullable = true)\n",
      " |-- PERCENT AMERICAN INDIAN: string (nullable = true)\n",
      " |-- COUNT ASIAN NON HISPANIC: string (nullable = true)\n",
      " |-- PERCENT ASIAN NON HISPANIC: string (nullable = true)\n",
      " |-- COUNT WHITE NON HISPANIC: string (nullable = true)\n",
      " |-- PERCENT WHITE NON HISPANIC: string (nullable = true)\n",
      " |-- COUNT BLACK NON HISPANIC: string (nullable = true)\n",
      " |-- PERCENT BLACK NON HISPANIC: string (nullable = true)\n",
      " |-- COUNT OTHER ETHNICITY: string (nullable = true)\n",
      " |-- PERCENT OTHER ETHNICITY: string (nullable = true)\n",
      " |-- COUNT ETHNICITY UNKNOWN: string (nullable = true)\n",
      " |-- PERCENT ETHNICITY UNKNOWN: string (nullable = true)\n",
      " |-- COUNT ETHNICITY TOTAL: string (nullable = true)\n",
      " |-- PERCENT ETHNICITY TOTAL: string (nullable = true)\n",
      " |-- COUNT PERMANENT RESIDENT ALIEN: string (nullable = true)\n",
      " |-- PERCENT PERMANENT RESIDENT ALIEN: string (nullable = true)\n",
      " |-- COUNT US CITIZEN: string (nullable = true)\n",
      " |-- PERCENT US CITIZEN: string (nullable = true)\n",
      " |-- COUNT OTHER CITIZEN STATUS: string (nullable = true)\n",
      " |-- PERCENT OTHER CITIZEN STATUS: string (nullable = true)\n",
      " |-- COUNT CITIZEN STATUS UNKNOWN: string (nullable = true)\n",
      " |-- PERCENT CITIZEN STATUS UNKNOWN: string (nullable = true)\n",
      " |-- COUNT CITIZEN STATUS TOTAL: string (nullable = true)\n",
      " |-- PERCENT CITIZEN STATUS TOTAL: string (nullable = true)\n",
      " |-- COUNT RECEIVES PUBLIC ASSISTANCE: string (nullable = true)\n",
      " |-- PERCENT RECEIVES PUBLIC ASSISTANCE: string (nullable = true)\n",
      " |-- COUNT NRECEIVES PUBLIC ASSISTANCE: string (nullable = true)\n",
      " |-- PERCENT NRECEIVES PUBLIC ASSISTANCE: string (nullable = true)\n",
      " |-- COUNT PUBLIC ASSISTANCE UNKNOWN: string (nullable = true)\n",
      " |-- PERCENT PUBLIC ASSISTANCE UNKNOWN: string (nullable = true)\n",
      " |-- COUNT PUBLIC ASSISTANCE TOTAL: string (nullable = true)\n",
      " |-- PERCENT PUBLIC ASSISTANCE TOTAL: string (nullable = true)\n",
      "\n"
     ]
    }
   ],
   "source": [
    "demog.printSchema()"
   ]
  },
  {
   "cell_type": "code",
   "execution_count": 213,
   "metadata": {},
   "outputs": [
    {
     "name": "stdout",
     "output_type": "stream",
     "text": [
      "+------------------+\n",
      "|count participants|\n",
      "+------------------+\n",
      "|                44|\n",
      "|                35|\n",
      "|                 1|\n",
      "|                 0|\n",
      "|                 2|\n",
      "|                 6|\n",
      "|                 1|\n",
      "|                 2|\n",
      "|                 0|\n",
      "|                 3|\n",
      "|                 0|\n",
      "|                 8|\n",
      "|                 0|\n",
      "|                17|\n",
      "|                 0|\n",
      "|                 3|\n",
      "|                 0|\n",
      "|                 0|\n",
      "|                 0|\n",
      "|                 1|\n",
      "+------------------+\n",
      "only showing top 20 rows\n",
      "\n"
     ]
    }
   ],
   "source": [
    "demog.select(demog['count participants']).show()"
   ]
  },
  {
   "cell_type": "code",
   "execution_count": 214,
   "metadata": {},
   "outputs": [],
   "source": [
    "demog = demog.filter(demog['count participants'] != '0')"
   ]
  },
  {
   "cell_type": "code",
   "execution_count": 215,
   "metadata": {},
   "outputs": [
    {
     "name": "stdout",
     "output_type": "stream",
     "text": [
      "+-----------------+\n",
      "|jurisdiction name|\n",
      "+-----------------+\n",
      "|            10001|\n",
      "|            10002|\n",
      "|            10003|\n",
      "|            10005|\n",
      "|            10006|\n",
      "|            10007|\n",
      "|            10009|\n",
      "|            10011|\n",
      "|            10013|\n",
      "|            10016|\n",
      "|            10018|\n",
      "|            10022|\n",
      "|            10023|\n",
      "|            10024|\n",
      "|            10025|\n",
      "|            10027|\n",
      "|            10029|\n",
      "|            10032|\n",
      "|            10036|\n",
      "|            10038|\n",
      "+-----------------+\n",
      "only showing top 20 rows\n",
      "\n"
     ]
    }
   ],
   "source": [
    "demog.select(demog['jurisdiction name']).show()"
   ]
  },
  {
   "cell_type": "code",
   "execution_count": 216,
   "metadata": {},
   "outputs": [
    {
     "data": {
      "text/plain": [
       "['COUNT FEMALE',\n",
       " 'COUNT MALE',\n",
       " 'COUNT GENDER UNKNOWN',\n",
       " 'COUNT GENDER TOTAL',\n",
       " 'COUNT PACIFIC ISLANDER',\n",
       " 'COUNT HISPANIC LATINO',\n",
       " 'COUNT AMERICAN INDIAN',\n",
       " 'COUNT ASIAN NON HISPANIC',\n",
       " 'COUNT WHITE NON HISPANIC',\n",
       " 'COUNT BLACK NON HISPANIC',\n",
       " 'COUNT OTHER ETHNICITY',\n",
       " 'COUNT ETHNICITY UNKNOWN',\n",
       " 'COUNT ETHNICITY TOTAL',\n",
       " 'COUNT PERMANENT RESIDENT ALIEN',\n",
       " 'COUNT US CITIZEN',\n",
       " 'COUNT OTHER CITIZEN STATUS',\n",
       " 'COUNT CITIZEN STATUS UNKNOWN',\n",
       " 'COUNT CITIZEN STATUS TOTAL',\n",
       " 'COUNT RECEIVES PUBLIC ASSISTANCE',\n",
       " 'COUNT NRECEIVES PUBLIC ASSISTANCE',\n",
       " 'COUNT PUBLIC ASSISTANCE UNKNOWN',\n",
       " 'COUNT PUBLIC ASSISTANCE TOTAL']"
      ]
     },
     "execution_count": 216,
     "metadata": {},
     "output_type": "execute_result"
    }
   ],
   "source": [
    "cols=[]\n",
    "for c in demog.columns:\n",
    "    if 'COUNT' in c:\n",
    "        cols.append(c)\n",
    "\n",
    "cols.remove('COUNT PARTICIPANTS')\n",
    "cols"
   ]
  },
  {
   "cell_type": "code",
   "execution_count": 217,
   "metadata": {},
   "outputs": [],
   "source": [
    "demog = demog.drop(*cols)"
   ]
  },
  {
   "cell_type": "code",
   "execution_count": 218,
   "metadata": {},
   "outputs": [
    {
     "data": {
      "text/plain": [
       "['JURISDICTION NAME',\n",
       " 'COUNT PARTICIPANTS',\n",
       " 'PERCENT FEMALE',\n",
       " 'PERCENT MALE',\n",
       " 'PERCENT GENDER UNKNOWN',\n",
       " 'PERCENT GENDER TOTAL',\n",
       " 'PERCENT PACIFIC ISLANDER',\n",
       " 'PERCENT HISPANIC LATINO',\n",
       " 'PERCENT AMERICAN INDIAN',\n",
       " 'PERCENT ASIAN NON HISPANIC',\n",
       " 'PERCENT WHITE NON HISPANIC',\n",
       " 'PERCENT BLACK NON HISPANIC',\n",
       " 'PERCENT OTHER ETHNICITY',\n",
       " 'PERCENT ETHNICITY UNKNOWN',\n",
       " 'PERCENT ETHNICITY TOTAL',\n",
       " 'PERCENT PERMANENT RESIDENT ALIEN',\n",
       " 'PERCENT US CITIZEN',\n",
       " 'PERCENT OTHER CITIZEN STATUS',\n",
       " 'PERCENT CITIZEN STATUS UNKNOWN',\n",
       " 'PERCENT CITIZEN STATUS TOTAL',\n",
       " 'PERCENT RECEIVES PUBLIC ASSISTANCE',\n",
       " 'PERCENT NRECEIVES PUBLIC ASSISTANCE',\n",
       " 'PERCENT PUBLIC ASSISTANCE UNKNOWN',\n",
       " 'PERCENT PUBLIC ASSISTANCE TOTAL']"
      ]
     },
     "execution_count": 218,
     "metadata": {},
     "output_type": "execute_result"
    }
   ],
   "source": [
    "demog.columns"
   ]
  },
  {
   "cell_type": "code",
   "execution_count": 219,
   "metadata": {},
   "outputs": [],
   "source": [
    "fp = spark.read.csv('/Users/vvviren/Desktop/Film_Permits.csv',header='true')"
   ]
  },
  {
   "cell_type": "code",
   "execution_count": 220,
   "metadata": {},
   "outputs": [
    {
     "name": "stdout",
     "output_type": "stream",
     "text": [
      "root\n",
      " |-- EventID: string (nullable = true)\n",
      " |-- EventType: string (nullable = true)\n",
      " |-- StartDateTime: string (nullable = true)\n",
      " |-- EndDateTime: string (nullable = true)\n",
      " |-- EnteredOn: string (nullable = true)\n",
      " |-- EventAgency: string (nullable = true)\n",
      " |-- ParkingHeld: string (nullable = true)\n",
      " |-- Borough: string (nullable = true)\n",
      " |-- CommunityBoard(s): string (nullable = true)\n",
      " |-- PolicePrecinct(s): string (nullable = true)\n",
      " |-- Category: string (nullable = true)\n",
      " |-- SubCategoryName: string (nullable = true)\n",
      " |-- Country: string (nullable = true)\n",
      " |-- ZipCode(s): string (nullable = true)\n",
      "\n"
     ]
    }
   ],
   "source": [
    "fp.printSchema()"
   ]
  },
  {
   "cell_type": "code",
   "execution_count": 221,
   "metadata": {},
   "outputs": [
    {
     "data": {
      "text/plain": [
       "DataFrame[EventType: string, StartDateTime: string, EndDateTime: string, EnteredOn: string, ParkingHeld: string, Borough: string, CommunityBoard(s): string, PolicePrecinct(s): string, Category: string, SubCategoryName: string, ZipCode(s): string]"
      ]
     },
     "execution_count": 221,
     "metadata": {},
     "output_type": "execute_result"
    }
   ],
   "source": [
    "cols = ['EventId', 'EventAgency', 'CommunityBoard', 'PolicePrecint', 'Country']\n",
    "fp.drop(*cols)"
   ]
  },
  {
   "cell_type": "code",
   "execution_count": 222,
   "metadata": {},
   "outputs": [
    {
     "name": "stdout",
     "output_type": "stream",
     "text": [
      "+--------------------+\n",
      "|          ZipCode(s)|\n",
      "+--------------------+\n",
      "|               10012|\n",
      "|        10034, 10463|\n",
      "|               11378|\n",
      "|               11201|\n",
      "|        10001, 10121|\n",
      "|        11101, 11222|\n",
      "|               11217|\n",
      "|               10036|\n",
      "|               10462|\n",
      "|               10014|\n",
      "|        10036, 10105|\n",
      "|        10014, 11101|\n",
      "|        11203, 11218|\n",
      "|        10001, 10121|\n",
      "|               11219|\n",
      "|               10001|\n",
      "|               10036|\n",
      "|               11201|\n",
      "|               11104|\n",
      "|10017, 10022, 101...|\n",
      "+--------------------+\n",
      "only showing top 20 rows\n",
      "\n"
     ]
    }
   ],
   "source": [
    "fp.select(fp['ZipCode(s)']).show()"
   ]
  },
  {
   "cell_type": "code",
   "execution_count": 223,
   "metadata": {},
   "outputs": [],
   "source": [
    "from pyspark.sql.functions import explode\n",
    "from pyspark.sql.functions import split\n",
    "\n",
    "\n",
    "fp=fp.withColumn('tmp', split('ZipCode(s)', ', '))\n",
    "                                               \n",
    "fp=fp.withColumn('zips', explode('tmp'))"
   ]
  },
  {
   "cell_type": "code",
   "execution_count": 224,
   "metadata": {},
   "outputs": [
    {
     "name": "stdout",
     "output_type": "stream",
     "text": [
      "+-------+-----+\n",
      "|EventID| zips|\n",
      "+-------+-----+\n",
      "| 446040|10012|\n",
      "| 446168|10034|\n",
      "| 446168|10463|\n",
      "| 186438|11378|\n",
      "| 445255|11201|\n",
      "| 128794|10001|\n",
      "| 128794|10121|\n",
      "|  43547|11101|\n",
      "|  43547|11222|\n",
      "|  66846|11217|\n",
      "| 104342|10036|\n",
      "| 244863|10462|\n",
      "| 446379|10014|\n",
      "| 446359|10036|\n",
      "| 446359|10105|\n",
      "| 203743|10014|\n",
      "| 203743|11101|\n",
      "| 446069|11203|\n",
      "| 446069|11218|\n",
      "| 445165|10001|\n",
      "+-------+-----+\n",
      "only showing top 20 rows\n",
      "\n"
     ]
    }
   ],
   "source": [
    "fp.select('EventID', 'zips').show()"
   ]
  },
  {
   "cell_type": "code",
   "execution_count": 225,
   "metadata": {},
   "outputs": [
    {
     "name": "stdout",
     "output_type": "stream",
     "text": [
      "+------------+\n",
      "|percent male|\n",
      "+------------+\n",
      "|        null|\n",
      "|        null|\n",
      "|        0.44|\n",
      "|        null|\n",
      "|        0.45|\n",
      "|         0.5|\n",
      "|        null|\n",
      "|           1|\n",
      "|        null|\n",
      "|        null|\n",
      "|           0|\n",
      "|        0.33|\n",
      "|        null|\n",
      "|           0|\n",
      "|        null|\n",
      "|        null|\n",
      "|           1|\n",
      "|         0.2|\n",
      "|        0.13|\n",
      "|         0.5|\n",
      "+------------+\n",
      "only showing top 20 rows\n",
      "\n"
     ]
    }
   ],
   "source": [
    "left_join = fp.join(demog, fp['zips'] == demog['JURISDICTION NAME'],how='left') # Could also use 'left_outer'\n",
    "left_join.select('percent male').show()"
   ]
  },
  {
   "cell_type": "code",
   "execution_count": 226,
   "metadata": {},
   "outputs": [
    {
     "data": {
      "text/plain": [
       "['EventID',\n",
       " 'EventType',\n",
       " 'StartDateTime',\n",
       " 'EndDateTime',\n",
       " 'EnteredOn',\n",
       " 'EventAgency',\n",
       " 'ParkingHeld',\n",
       " 'Borough',\n",
       " 'CommunityBoard(s)',\n",
       " 'PolicePrecinct(s)',\n",
       " 'Category',\n",
       " 'SubCategoryName',\n",
       " 'Country',\n",
       " 'ZipCode(s)',\n",
       " 'tmp',\n",
       " 'zips',\n",
       " 'JURISDICTION NAME',\n",
       " 'COUNT PARTICIPANTS',\n",
       " 'PERCENT FEMALE',\n",
       " 'PERCENT MALE',\n",
       " 'PERCENT GENDER UNKNOWN',\n",
       " 'PERCENT GENDER TOTAL',\n",
       " 'PERCENT PACIFIC ISLANDER',\n",
       " 'PERCENT HISPANIC LATINO',\n",
       " 'PERCENT AMERICAN INDIAN',\n",
       " 'PERCENT ASIAN NON HISPANIC',\n",
       " 'PERCENT WHITE NON HISPANIC',\n",
       " 'PERCENT BLACK NON HISPANIC',\n",
       " 'PERCENT OTHER ETHNICITY',\n",
       " 'PERCENT ETHNICITY UNKNOWN',\n",
       " 'PERCENT ETHNICITY TOTAL',\n",
       " 'PERCENT PERMANENT RESIDENT ALIEN',\n",
       " 'PERCENT US CITIZEN',\n",
       " 'PERCENT OTHER CITIZEN STATUS',\n",
       " 'PERCENT CITIZEN STATUS UNKNOWN',\n",
       " 'PERCENT CITIZEN STATUS TOTAL',\n",
       " 'PERCENT RECEIVES PUBLIC ASSISTANCE',\n",
       " 'PERCENT NRECEIVES PUBLIC ASSISTANCE',\n",
       " 'PERCENT PUBLIC ASSISTANCE UNKNOWN',\n",
       " 'PERCENT PUBLIC ASSISTANCE TOTAL']"
      ]
     },
     "execution_count": 226,
     "metadata": {},
     "output_type": "execute_result"
    }
   ],
   "source": [
    "left_join.columns"
   ]
  },
  {
   "cell_type": "code",
   "execution_count": 227,
   "metadata": {},
   "outputs": [
    {
     "name": "stdout",
     "output_type": "stream",
     "text": [
      "+-----+-----+\n",
      "| zips|count|\n",
      "+-----+-----+\n",
      "|11222| 7271|\n",
      "|11101| 5694|\n",
      "|10036| 4174|\n",
      "|10019| 3969|\n",
      "|10001| 3165|\n",
      "|10013| 2998|\n",
      "|10011| 2765|\n",
      "|11201| 2516|\n",
      "|10003| 2459|\n",
      "|10023| 2401|\n",
      "|10014| 2017|\n",
      "|10012| 1976|\n",
      "|11217| 1922|\n",
      "|10002| 1908|\n",
      "|11211| 1762|\n",
      "|11106| 1581|\n",
      "|11249| 1566|\n",
      "|10022| 1352|\n",
      "|10010| 1246|\n",
      "|11237| 1188|\n",
      "+-----+-----+\n",
      "only showing top 20 rows\n",
      "\n"
     ]
    }
   ],
   "source": [
    "from pyspark.sql.functions import col\n",
    "import pyspark.sql.functions as F\n",
    "\n",
    "cntfp = left_join.groupby(left_join.zips).count()\n",
    "sortcntfp = cntfp.sort(col('count').desc())\n",
    "sortcntfp = sortcntfp.filter(col('count')>1100)\n",
    "sortcntfp.show()"
   ]
  },
  {
   "cell_type": "code",
   "execution_count": 228,
   "metadata": {},
   "outputs": [
    {
     "name": "stdout",
     "output_type": "stream",
     "text": [
      "+--------------------------+\n",
      "|PERCENT BLACK NON HISPANIC|\n",
      "+--------------------------+\n",
      "|                      0.03|\n",
      "|                         0|\n",
      "|                      null|\n",
      "|                      0.45|\n",
      "|                      0.33|\n",
      "|                       0.5|\n",
      "|                      0.48|\n",
      "|                      0.43|\n",
      "+--------------------------+\n",
      "\n"
     ]
    }
   ],
   "source": [
    "from pyspark.sql.functions import col\n",
    "\n",
    "filterfp = left_join.join(sortcntfp, left_join['zips']==sortcntfp['zips']).drop(sortcntfp.zips)\n",
    "filterfp.select('PERCENT BLACK NON HISPANIC').distinct().show()"
   ]
  },
  {
   "cell_type": "code",
   "execution_count": 229,
   "metadata": {},
   "outputs": [
    {
     "name": "stdout",
     "output_type": "stream",
     "text": [
      "+-----+--------------------------+\n",
      "| zips|percent_black_non_hispanic|\n",
      "+-----+--------------------------+\n",
      "|10011|                      0.33|\n",
      "|10001|                      0.48|\n",
      "|10023|                      0.43|\n",
      "|11201|                      0.45|\n",
      "|10036|                       0.5|\n",
      "|11211|                      0.03|\n",
      "+-----+--------------------------+\n",
      "\n"
     ]
    }
   ],
   "source": [
    "from pyspark.sql.types import DoubleType\n",
    "filterfp = filterfp.withColumn(\"percent_black_non_hispanic\", filterfp[\"PERCENT BLACK NON HISPANIC\"].cast(DoubleType()))\n",
    "\n",
    "filterfp.filter(col('percent_black_non_hispanic') >0).select('zips', 'percent_black_non_hispanic').distinct().show()"
   ]
  },
  {
   "cell_type": "code",
   "execution_count": 230,
   "metadata": {},
   "outputs": [],
   "source": [
    "df = sortcntfp.join(demog, sortcntfp['zips'] == demog['JURISDICTION NAME'],how='left') # Could also use 'left_outer'"
   ]
  },
  {
   "cell_type": "code",
   "execution_count": 245,
   "metadata": {},
   "outputs": [
    {
     "name": "stdout",
     "output_type": "stream",
     "text": [
      "+-----+-----+------------------+\n",
      "| zips|count|percent_us_citizen|\n",
      "+-----+-----+------------------+\n",
      "|10013| 2998|               1.0|\n",
      "|10036| 4174|               1.0|\n",
      "|11211| 1762|               1.0|\n",
      "|10011| 2765|               1.0|\n",
      "|10023| 2401|               1.0|\n",
      "|11101| 5694|               1.0|\n",
      "|10022| 1352|               1.0|\n",
      "|10003| 2459|               1.0|\n",
      "|11201| 2516|               1.0|\n",
      "|10001| 3165|              0.95|\n",
      "|10002| 1908|              0.94|\n",
      "|10018| 1154|              0.67|\n",
      "|11385| 1162|              null|\n",
      "|10019| 3969|              null|\n",
      "|10012| 1976|              null|\n",
      "|11106| 1581|              null|\n",
      "|10014| 2017|              null|\n",
      "|11217| 1922|              null|\n",
      "|11249| 1566|              null|\n",
      "|10010| 1246|              null|\n",
      "+-----+-----+------------------+\n",
      "only showing top 20 rows\n",
      "\n",
      "+-----+-----+-----------------------+\n",
      "| zips|count|percent_hispanic_latino|\n",
      "+-----+-----+-----------------------+\n",
      "|10023| 2401|                   0.43|\n",
      "|10001| 3165|                   0.36|\n",
      "|10011| 2765|                   0.33|\n",
      "|11201| 2516|                   0.18|\n",
      "|11211| 1762|                   0.06|\n",
      "|10002| 1908|                   0.03|\n",
      "|10013| 2998|                    0.0|\n",
      "|11101| 5694|                    0.0|\n",
      "|10003| 2459|                    0.0|\n",
      "|10022| 1352|                    0.0|\n",
      "|10036| 4174|                    0.0|\n",
      "|10018| 1154|                    0.0|\n",
      "|10017| 1174|                   null|\n",
      "|10019| 3969|                   null|\n",
      "|11217| 1922|                   null|\n",
      "|10014| 2017|                   null|\n",
      "|10012| 1976|                   null|\n",
      "|11106| 1581|                   null|\n",
      "|11237| 1188|                   null|\n",
      "|10010| 1246|                   null|\n",
      "+-----+-----+-----------------------+\n",
      "only showing top 20 rows\n",
      "\n",
      "+-----+-----+------------+\n",
      "| zips|count|percent_male|\n",
      "+-----+-----+------------+\n",
      "|11101| 5694|         1.0|\n",
      "|10013| 2998|        0.88|\n",
      "|10001| 3165|         0.5|\n",
      "|10002| 1908|        0.46|\n",
      "|11201| 2516|        0.45|\n",
      "|10011| 2765|        0.33|\n",
      "|10018| 1154|        0.33|\n",
      "|10023| 2401|        0.29|\n",
      "|11211| 1762|        0.09|\n",
      "|10022| 1352|         0.0|\n",
      "|10036| 4174|         0.0|\n",
      "|10003| 2459|         0.0|\n",
      "|10014| 2017|        null|\n",
      "|11249| 1566|        null|\n",
      "|11222| 7271|        null|\n",
      "|10010| 1246|        null|\n",
      "|10017| 1174|        null|\n",
      "|11217| 1922|        null|\n",
      "|11106| 1581|        null|\n",
      "|11237| 1188|        null|\n",
      "+-----+-----+------------+\n",
      "only showing top 20 rows\n",
      "\n"
     ]
    }
   ],
   "source": [
    "from pyspark.sql.types import DoubleType\n",
    "df = df.withColumn(\"percent_us_citizen\", df[\"PERCENT US CITIZEN\"].cast(DoubleType()))\n",
    "df = df.withColumn(\"percent_other_citizen\", df[\"PERCENT OTHER CITIZEN STATUS\"].cast(DoubleType()))\n",
    "df = df.withColumn(\"percent_unknown_citizen\", df[\"PERCENT CITIZEN STATUS UNKNOWN\"].cast(DoubleType()))\n",
    "df = df.withColumn(\"percent_hispanic_latino\", df[\"PERCENT HISPANIC LATINO\"].cast(DoubleType()))\n",
    "df = df.withColumn(\"percent_american_indian\", df[\"PERCENT AMERICAN INDIAN\"].cast(DoubleType()))\n",
    "df = df.withColumn(\"percent_male\", df[\"PERCENT MALE\"].cast(DoubleType()))\n",
    "df = df.withColumn(\"percent_female\", df[\"PERCENT FEMALE\"].cast(DoubleType()))\n",
    "df = df.withColumn(\"percent_asian_non_hispanic\", df['PERCENT ASIAN NON HISPANIC'].cast(DoubleType()))\n",
    "df = df.withColumn(\"percent_white_non_hispanic\", df['PERCENT WHITE NON HISPANIC'].cast(DoubleType()))\n",
    "df = df.withColumn(\"percent_black_non_hispanic\", df['PERCENT BLACK NON HISPANIC'].cast(DoubleType()))\n",
    "df = df.withColumn(\"percent_ethinicity_unknown\", df['PERCENT ETHNICITY UNKNOWN'].cast(DoubleType()))\n",
    "\n",
    "\n",
    "df.sort(col('percent_us_citizen').desc()).select('zips','count','percent_us_citizen').show()\n",
    "df.sort(col('percent_hispanic_latino').desc()).select('zips','count','percent_hispanic_latino').show()\n",
    "df.sort(col('percent_male').desc()).select('zips','count','percent_male').show()"
   ]
  },
  {
   "cell_type": "code",
   "execution_count": 233,
   "metadata": {},
   "outputs": [
    {
     "data": {
      "text/plain": [
       "0.1685760188209232"
      ]
     },
     "execution_count": 233,
     "metadata": {},
     "output_type": "execute_result"
    }
   ],
   "source": [
    "df.stat.corr('count', 'percent_us_citizen')\n"
   ]
  },
  {
   "cell_type": "code",
   "execution_count": 234,
   "metadata": {},
   "outputs": [
    {
     "data": {
      "text/plain": [
       "nan"
      ]
     },
     "execution_count": 234,
     "metadata": {},
     "output_type": "execute_result"
    }
   ],
   "source": [
    "df.stat.corr('count', 'percent_other_citizen')"
   ]
  },
  {
   "cell_type": "code",
   "execution_count": 235,
   "metadata": {},
   "outputs": [
    {
     "data": {
      "text/plain": [
       "nan"
      ]
     },
     "execution_count": 235,
     "metadata": {},
     "output_type": "execute_result"
    }
   ],
   "source": [
    "df.stat.corr('count', 'percent_unknown_citizen')"
   ]
  },
  {
   "cell_type": "code",
   "execution_count": 236,
   "metadata": {},
   "outputs": [
    {
     "data": {
      "text/plain": [
       "0.051923800170978175"
      ]
     },
     "execution_count": 236,
     "metadata": {},
     "output_type": "execute_result"
    }
   ],
   "source": [
    "df.stat.corr('count', 'percent_hispanic_latino')"
   ]
  },
  {
   "cell_type": "code",
   "execution_count": 237,
   "metadata": {},
   "outputs": [
    {
     "data": {
      "text/plain": [
       "nan"
      ]
     },
     "execution_count": 237,
     "metadata": {},
     "output_type": "execute_result"
    }
   ],
   "source": [
    "df.stat.corr('count', 'percent_american_indian')"
   ]
  },
  {
   "cell_type": "code",
   "execution_count": 238,
   "metadata": {},
   "outputs": [
    {
     "data": {
      "text/plain": [
       "0.32503401399349197"
      ]
     },
     "execution_count": 238,
     "metadata": {},
     "output_type": "execute_result"
    }
   ],
   "source": [
    "df.stat.corr('count', 'percent_male')"
   ]
  },
  {
   "cell_type": "code",
   "execution_count": 239,
   "metadata": {},
   "outputs": [
    {
     "data": {
      "text/plain": [
       "0.1685760188209232"
      ]
     },
     "execution_count": 239,
     "metadata": {},
     "output_type": "execute_result"
    }
   ],
   "source": [
    "df.stat.corr('count', 'percent_us_citizen')"
   ]
  },
  {
   "cell_type": "code",
   "execution_count": 240,
   "metadata": {},
   "outputs": [
    {
     "data": {
      "text/plain": [
       "0.1685760188209232"
      ]
     },
     "execution_count": 240,
     "metadata": {},
     "output_type": "execute_result"
    }
   ],
   "source": [
    "df.stat.corr('count', 'percent_us_citizen')"
   ]
  },
  {
   "cell_type": "code",
   "execution_count": 241,
   "metadata": {},
   "outputs": [
    {
     "data": {
      "text/plain": [
       "-0.11742141292817126"
      ]
     },
     "execution_count": 241,
     "metadata": {},
     "output_type": "execute_result"
    }
   ],
   "source": [
    "df.stat.corr('count', 'percent_white_non_hispanic')"
   ]
  },
  {
   "cell_type": "code",
   "execution_count": 242,
   "metadata": {},
   "outputs": [
    {
     "data": {
      "text/plain": [
       "0.1892730768700985"
      ]
     },
     "execution_count": 242,
     "metadata": {},
     "output_type": "execute_result"
    }
   ],
   "source": [
    "df.stat.corr('count', 'percent_black_non_hispanic')"
   ]
  },
  {
   "cell_type": "code",
   "execution_count": 246,
   "metadata": {},
   "outputs": [
    {
     "data": {
      "text/plain": [
       "nan"
      ]
     },
     "execution_count": 246,
     "metadata": {},
     "output_type": "execute_result"
    }
   ],
   "source": [
    "df.stat.corr('count', 'percent_ethinicity_unknown')"
   ]
  },
  {
   "cell_type": "code",
   "execution_count": null,
   "metadata": {},
   "outputs": [],
   "source": []
  }
 ],
 "metadata": {
  "kernelspec": {
   "display_name": "Python 3",
   "language": "python",
   "name": "python3"
  },
  "language_info": {
   "codemirror_mode": {
    "name": "ipython",
    "version": 3
   },
   "file_extension": ".py",
   "mimetype": "text/x-python",
   "name": "python",
   "nbconvert_exporter": "python",
   "pygments_lexer": "ipython3",
   "version": "3.7.5"
  }
 },
 "nbformat": 4,
 "nbformat_minor": 2
}
